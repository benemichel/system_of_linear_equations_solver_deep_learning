{
 "cells": [
  {
   "cell_type": "code",
   "execution_count": 513,
   "metadata": {},
   "outputs": [],
   "source": [
    "import numpy as np\n",
    "import torch\n",
    "import torchvision\n",
    "import matplotlib.pyplot as plt\n",
    "from time import time\n",
    "from torchvision import datasets, transforms\n",
    "from torch import nn, optim\n",
    "import os\n",
    "import cv2 as cv\n",
    "from PIL import Image, ImageOps"
   ]
  },
  {
   "cell_type": "markdown",
   "metadata": {},
   "source": [
    "# Data Preprocessing"
   ]
  },
  {
   "cell_type": "markdown",
   "metadata": {},
   "source": [
    "## Load dataset"
   ]
  },
  {
   "cell_type": "code",
   "execution_count": 687,
   "metadata": {},
   "outputs": [
    {
     "name": "stdout",
     "output_type": "stream",
     "text": [
      "['(', ')', '+', ',', '-', '0', '1', '2', '3', '4', '5', '6', '7', '8', '9', '=', '[', ']', 'b', 'd', 'e', 'f', 'i', 'j', 'k', 'l', 'o', 'p', 'q', 'u', 'v', 'w', 'y', 'z']\n",
      "(  :  0\n",
      ")  :  1\n",
      "+  :  2\n",
      ",  :  3\n",
      "-  :  4\n",
      "0  :  5\n",
      "1  :  6\n",
      "2  :  7\n",
      "3  :  8\n",
      "4  :  9\n",
      "5  :  10\n",
      "6  :  11\n",
      "7  :  12\n",
      "8  :  13\n",
      "9  :  14\n",
      "=  :  15\n",
      "[  :  16\n",
      "]  :  17\n",
      "b  :  18\n",
      "d  :  19\n",
      "e  :  20\n",
      "f  :  21\n",
      "i  :  22\n",
      "j  :  23\n",
      "k  :  24\n",
      "l  :  25\n",
      "o  :  26\n",
      "p  :  27\n",
      "q  :  28\n",
      "u  :  29\n",
      "v  :  30\n",
      "w  :  31\n",
      "y  :  32\n",
      "z  :  33\n",
      "34 classes\n",
      "{0: '(', 1: ')', 2: '+', 3: ',', 4: '-', 5: '0', 6: '1', 7: '2', 8: '3', 9: '4', 10: '5', 11: '6', 12: '7', 13: '8', 14: '9', 15: '=', 16: '[', 17: ']', 18: 'b', 19: 'd', 20: 'e', 21: 'f', 22: 'i', 23: 'j', 24: 'k', 25: 'l', 26: 'o', 27: 'p', 28: 'q', 29: 'u', 30: 'v', 31: 'w', 32: 'y', 33: 'z'}\n"
     ]
    }
   ],
   "source": [
    "#class mappings\n",
    "data_dir = 'C:\\\\Users\\\\bened\\\\ML_datasets\\\\kaggle_handwritten_symbols'\n",
    "folders = os.listdir(data_dir)\n",
    "print(sorted(folders))\n",
    "\n",
    "class_mappings = {symbol : index for index, symbol in enumerate(sorted(os.listdir(data_dir)))}\n",
    "#class_mappings_1 = {'(': 0, ')': 1, '+': 2, ',': 3,'-': 4, '0': 5, '1': 6, '2': 7, '3': 8, '4': 9, '5': 10, '6': 11, '7': 12, '8': 13, '9': 14, '=': 15, 'X': 16, '[': 17,\n",
    "#  ']': 18, 'b': 19, 'd': 20, 'div': 21, 'e': 22, 'f': 23, 'i': 24, 'j': 25, 'k': 26, 'l': 27, 'o': 28, 'p': 29,'q': 30, 'times': 31, 'u': 32, 'v': 33, 'w': 34, 'y': 35, 'z': 36}\n",
    "for key in list(class_mappings.keys())[:]:\n",
    "    print(key, ' : ', class_mappings[key])\n",
    "    \n",
    "print(f\"{len(list(class_mappings.keys()))} classes\")\n",
    "\n",
    "class_mappings_reverse = {value : key for key, value in class_mappings.items()}\n",
    "print(class_mappings_reverse)\n",
    "\n",
    "n_classes = len(list(class_mappings.keys()))"
   ]
  },
  {
   "cell_type": "markdown",
   "metadata": {},
   "source": [
    "## Inspect data"
   ]
  },
  {
   "cell_type": "code",
   "execution_count": 688,
   "metadata": {},
   "outputs": [
    {
     "name": "stdout",
     "output_type": "stream",
     "text": [
      "first n files in sample folder [ : ['exp2999.jpg', 'exp3041.jpg', 'exp3117.jpg', 'exp3177.jpg', 'exp3219.jpg', 'exp3223.jpg', 'exp3302.jpg', 'exp3314.jpg', 'exp3336.jpg', 'exp3361.jpg']\n"
     ]
    }
   ],
   "source": [
    "#inspect data\n",
    "random = np.random.randint(len(os.listdir(data_dir)))\n",
    "sample_folder = os.listdir(data_dir)[random]\n",
    "sample_files = os.listdir(os.path.join(data_dir,sample_folder))[:10]\n",
    "print(f\"first n files in sample folder {sample_folder} : {sample_files}\")"
   ]
  },
  {
   "cell_type": "code",
   "execution_count": 689,
   "metadata": {},
   "outputs": [
    {
     "data": {
      "image/png": "[encoded data removed]",
      "text/plain": [
       "<Figure size 432x288 with 2 Axes>"
      ]
     },
     "metadata": {
      "needs_background": "light"
     },
     "output_type": "display_data"
    },
    {
     "name": "stdout",
     "output_type": "stream",
     "text": [
      "exp3117.jpg\n",
      "image size : (45, 45)\n",
      "first row of image matrix: [255 255 255 255 255 255 255 255 255 255 255 255 255 255 255 255 255   2\n",
      "   0   0   1   0   0   0   0   0   0   0 255 254 255 255 255 255 255 255\n",
      " 255 255 255 255 255 255 255 255 255]\n"
     ]
    }
   ],
   "source": [
    "#inspect one image\n",
    "random = np.random.randint(len(sample_files))\n",
    "\n",
    "with Image.open(os.path.join(data_dir, sample_folder, sample_files[random])) as image:\n",
    "    fig, axes = plt.subplots(1,2)\n",
    "    axes[0].imshow(image)\n",
    "    axes[0].set_title(\"original image\")\n",
    "    axes[1].hist(np.array(image).reshape(-1))\n",
    "    axes[1].set_title(\"pixel value distribution\")\n",
    "    plt.show()\n",
    "    print(sample_files[random])\n",
    "    print(f\"image size : {image.size}\")\n",
    "    print(f\"first row of image matrix: {np.array(image)[0]}\")"
   ]
  },
  {
   "cell_type": "markdown",
   "metadata": {},
   "source": [
    "## Class distribution"
   ]
  },
  {
   "cell_type": "code",
   "execution_count": 517,
   "metadata": {},
   "outputs": [
    {
     "name": "stdout",
     "output_type": "stream",
     "text": [
      "[14294, 14355, 25112, 1906, 33997, 6914, 26520, 26141, 10909, 7396, 3545, 3118, 2909, 3068, 3737, 13104, 8651, 4852, 3003, 3712, 5140, 1536, 3074, 1017, 449, 2680, 1230, 1269, 1558, 556, 9340, 5870, 778, 780]\n",
      "['(', ')', '+', ',', '-', '0', '1', '2', '3', '4', '5', '6', '7', '8', '9', '=', 'b', 'd', 'e', 'f', 'i', 'j', 'k', 'l', 'o', 'p', 'q', 'u', 'v', 'w', 'y', 'z', '[', ']']\n"
     ]
    },
    {
     "data": {
      "image/png": "[encoded data removed]",
      "text/plain": [
       "<Figure size 432x288 with 1 Axes>"
      ]
     },
     "metadata": {
      "needs_background": "light"
     },
     "output_type": "display_data"
    }
   ],
   "source": [
    "#inspect data distrubtion among classes\n",
    "folders = os.listdir(data_dir)\n",
    "aggs = []\n",
    "symbols = []\n",
    "for folder in folders:\n",
    "    aggs.append(len(os.listdir(os.path.join(data_dir, folder))))\n",
    "    symbols.append(folder)\n",
    "    \n",
    "print(aggs)\n",
    "print(symbols)\n",
    "\n",
    "plt.bar(x = symbols, height = aggs)\n",
    "plt.title(\"class distribution within original dataset\")\n",
    "plt.show()\n",
    "\n"
   ]
  },
  {
   "cell_type": "markdown",
   "metadata": {},
   "source": [
    "Dataset is heavily inbalanced."
   ]
  },
  {
   "cell_type": "markdown",
   "metadata": {},
   "source": [
    "## Resize, invert and normalize images"
   ]
  },
  {
   "cell_type": "code",
   "execution_count": 712,
   "metadata": {},
   "outputs": [
    {
     "data": {
      "image/png": "[encoded data removed]",
      "text/plain": [
       "<Figure size 432x288 with 4 Axes>"
      ]
     },
     "metadata": {
      "needs_background": "light"
     },
     "output_type": "display_data"
    }
   ],
   "source": [
    "with Image.open(os.path.join(data_dir, sample_folder, sample_files[0])) as image:\n",
    "    #gray = ImageOps.grayscale(image)\n",
    "    #array = np.asarray(gray)\n",
    "    fig, axes =  plt.subplots(2,2)\n",
    "    image_resized = image.resize((28,28))\n",
    "    image_inv = ImageOps.invert(image_resized)\n",
    "    image_norm = np.array(image_inv)/np.max(np.array(image_inv))\n",
    "    \n",
    "    thresh = 0.1\n",
    "    image_threshed = image_norm\n",
    "    image_threshed[image_threshed < thresh] = 0\n",
    "    image_threshed[image_threshed >= thresh] = 1\n",
    "    \n",
    "    image_transformed= image_threshed\n",
    "\n",
    "    axes[0][0].imshow(image)\n",
    "    axes[0][0].set_title(np.array(image).shape)\n",
    "    axes[0][1].hist(np.array(image).reshape(-1))\n",
    "    axes[1][0].imshow(image_transformed)\n",
    "    axes[1][0].set_title(np.array(image_transformed).shape)\n",
    "    axes[1][1].hist(np.array(image_transformed).reshape(-1))"
   ]
  },
  {
   "cell_type": "code",
   "execution_count": 714,
   "metadata": {},
   "outputs": [],
   "source": [
    "def preprocess_kaggle_image(path):\n",
    "    \n",
    "    with Image.open(path) as image:\n",
    "        #gray = ImageOps.grayscale(image)\n",
    "        #array = np.asarray(gray)\n",
    "        image_resized = image.resize((28,28))\n",
    "        image_inv = ImageOps.invert(image_resized)\n",
    "        image_norm = np.array(image_inv)/np.max(np.array(image_inv))\n",
    "        \n",
    "        thresh = 0.1\n",
    "        image_threshed = image_norm\n",
    "        image_threshed[image_threshed < thresh] = 0\n",
    "        image_threshed[image_threshed >= thresh] = 1 \n",
    "\n",
    "    return image_threshed"
   ]
  },
  {
   "cell_type": "markdown",
   "metadata": {},
   "source": [
    "## Create pytorch Dataset"
   ]
  },
  {
   "cell_type": "code",
   "execution_count": 715,
   "metadata": {},
   "outputs": [
    {
     "name": "stdout",
     "output_type": "stream",
     "text": [
      "<class 'torchvision.datasets.folder.DatasetFolder'>\n",
      "dataset created with 252520 datapoints\n",
      "[0. 0. 0. 0. 0. 0. 0. 0. 0. 0. 0. 0. 0. 0. 0. 0. 1. 1. 0. 0. 0. 0. 0. 0.\n",
      " 0. 0. 0. 0.]\n",
      "label: 0\n",
      "[0. 0. 0. 0. 0. 0. 0. 0. 0. 0. 0. 0. 0. 0. 0. 0. 1. 1. 1. 0. 0. 0. 0. 0.\n",
      " 0. 0. 0. 0.]\n",
      "label: 0\n"
     ]
    }
   ],
   "source": [
    "transform_kaggle = transforms.Compose([ transforms.ToTensor() ])\n",
    "dataset_kaggle = datasets.DatasetFolder(data_dir, loader = preprocess_kaggle_image, extensions = ['jpg'], transform = transform_kaggle)\n",
    "\n",
    "print(type(dataset_kaggle))\n",
    "print(f\"dataset created with {len(dataset_kaggle)} datapoints\")\n",
    "\n",
    "\n",
    "dataset_kaggle_iterator = iter(dataset_kaggle)\n",
    "for i in range(2):\n",
    "    image, label = next(dataset_kaggle_iterator)\n",
    "    print(image.numpy()[0][0,:])\n",
    "    print(f\"label: {label}\")"
   ]
  },
  {
   "cell_type": "code",
   "execution_count": 716,
   "metadata": {},
   "outputs": [
    {
     "name": "stdout",
     "output_type": "stream",
     "text": [
      "[0, 10, 20, 30, 40, 50, 60, 70, 80, 90, 100, 110, 120, 130, 140, 150, 160, 170, 180, 190, 200, 210, 220, 230, 240, 250, 260, 270, 280, 290, 300, 310, 320, 330, 340, 350, 360, 370, 380, 390, 400, 410, 420, 430, 440, 450, 460, 470, 480, 490, 500, 510, 520, 530, 540, 550, 560, 570, 580, 590, 600, 610, 620, 630, 640, 650, 660, 670, 680, 690, 700, 710, 720, 730, 740, 750, 760, 770, 780, 790, 800, 810, 820, 830, 840, 850, 860, 870, 880, 890, 900, 910, 920, 930, 940, 950, 960, 970, 980, 990]\n"
     ]
    }
   ],
   "source": [
    "mask = list(range(0, len(dataset_kaggle), 10))\n",
    "print(mask[:100])\n",
    "dataset_kaggle_subset = torch.utils.data.Subset(dataset_kaggle, mask)\n",
    "\n",
    "#labels_sub = []\n",
    "#for image, label in iter(dataset_kaggle_subset):\n",
    "#    labels_sub.append(label)\n",
    "#    \n",
    "#labels = []\n",
    "#for image, label in iter(dataset_kaggle):\n",
    "#    labels.append(label)\n",
    "    \n",
    "#plt.hist(labels, bins = len(class_mappings) )\n",
    "#plt.show()\n",
    "#plt.hist(labels_sub, bins = len(class_mappings) )\n",
    "#plt.show()"
   ]
  },
  {
   "cell_type": "code",
   "execution_count": 717,
   "metadata": {},
   "outputs": [
    {
     "name": "stdout",
     "output_type": "stream",
     "text": [
      "15151\n",
      "10101\n"
     ]
    }
   ],
   "source": [
    "import math\n",
    "\n",
    "train_size = 0.6\n",
    "trainset_kaggle, testset_kaggle = torch.utils.data.random_split(dataset_kaggle_subset, [math.floor( train_size *  len(dataset_kaggle_subset)), math.ceil((1 - train_size) *  len(dataset_kaggle_subset))])\n",
    "\n",
    "\n",
    "#trainset_kaggle = dataset_kaggle_subset\n",
    "#trainset_kaggle = dataset_kaggle\n",
    "\n",
    "\n",
    "\n",
    "\n",
    "print(len(trainset_kaggle))\n",
    "print(len(testset_kaggle))"
   ]
  },
  {
   "cell_type": "code",
   "execution_count": null,
   "metadata": {},
   "outputs": [],
   "source": []
  },
  {
   "cell_type": "markdown",
   "metadata": {},
   "source": [
    "Custom sampling to create balanced dataset"
   ]
  },
  {
   "cell_type": "code",
   "execution_count": 718,
   "metadata": {},
   "outputs": [
    {
     "name": "stdout",
     "output_type": "stream",
     "text": [
      "15151\n",
      "34\n",
      "[ 826  852 1539  111 2030  418 1580 1566  658  438  204  197  184  191\n",
      "  239  767   46   42  523  300  173  222  294   96  193   69   26  164\n",
      "   72   75   97   34  554  371]\n",
      "34\n",
      "[ 0  1  2  3  4  5  6  7  8  9 10 11 12 13 14 15 16 17 18 19 20 21 22 23\n",
      " 24 25 26 27 28 29 30 31 32 33]\n",
      "[18.34261501210654, 17.78286384976526, 9.844704353476283, 136.4954954954955, 7.463546798029556, 36.24641148325359, 9.589240506329114, 9.674968071519796, 23.0258358662614, 34.59132420091324, 74.26960784313725, 76.90862944162437, 82.34239130434783, 79.32460732984293, 63.39330543933055, 19.753585397653193, 329.3695652173913, 360.73809523809524, 28.96940726577438, 50.50333333333333, 87.57803468208093, 68.24774774774775, 51.534013605442176, 157.82291666666666, 78.50259067357513, 219.57971014492753, 582.7307692307693, 92.38414634146342, 210.43055555555554, 202.01333333333332, 156.1958762886598, 445.61764705882354, 27.34837545126354, 40.83827493261455]\n",
      "[82.34239130434783, 19.753585397653193, 17.78286384976526, 9.589240506329114, 27.34837545126354, 9.844704353476283, 17.78286384976526, 9.844704353476283, 219.57971014492753, 34.59132420091324, 9.844704353476283, 23.0258358662614, 36.24641148325359, 19.753585397653193, 28.96940726577438, 79.32460732984293, 7.463546798029556, 9.674968071519796, 40.83827493261455, 9.844704353476283]\n",
      "10101\n",
      "34\n",
      "[ 604  583  973   79 1370  273 1072 1048  433  302  150  115  107  116\n",
      "  135  543   32   36  342  185  127  150  220   57  115   32   19  104\n",
      "   51   52   59   21  380  216]\n",
      "34\n",
      "[ 0  1  2  3  4  5  6  7  8  9 10 11 12 13 14 15 16 17 18 19 20 21 22 23\n",
      " 24 25 26 27 28 29 30 31 32 33]\n",
      "[16.723509933774835, 17.32590051457976, 10.381294964028777, 127.86075949367088, 7.372992700729927, 37.0, 9.422574626865671, 9.638358778625955, 23.32794457274827, 33.44701986754967, 67.34, 87.83478260869565, 94.40186915887851, 87.07758620689656, 74.82222222222222, 18.60220994475138, 315.65625, 280.5833333333333, 29.535087719298247, 54.6, 79.53543307086615, 67.34, 45.913636363636364, 177.21052631578948, 87.83478260869565, 315.65625, 531.6315789473684, 97.125, 198.05882352941177, 194.25, 171.20338983050848, 481.0, 26.58157894736842, 46.763888888888886]\n",
      "[37.0, 127.86075949367088, 9.638358778625955, 7.372992700729927, 17.32590051457976, 29.535087719298247, 7.372992700729927, 7.372992700729927, 7.372992700729927, 46.763888888888886, 18.60220994475138, 9.638358778625955, 16.723509933774835, 7.372992700729927, 7.372992700729927, 10.381294964028777, 10.381294964028777, 74.82222222222222, 280.5833333333333, 26.58157894736842]\n"
     ]
    }
   ],
   "source": [
    "#sample (due to unbalanced dataset)\n",
    "\n",
    "def get_sampler(dataset):\n",
    "    labels = [label for data, label in iter(dataset)]\n",
    "    print(len(labels))\n",
    "    labels_unique, counts =  np.unique(labels, return_counts = True)\n",
    "    print(len(counts))\n",
    "    print(counts)\n",
    "    print(len(labels_unique))\n",
    "    print(labels_unique)\n",
    "\n",
    "    class_weights = [sum(counts) /count for count in counts]  #factor to balance set, high count of images -> small factor\n",
    "    print(class_weights)\n",
    "\n",
    "    example_weights = [class_weights[label] for label in labels]\n",
    "    print(example_weights[:20])\n",
    "    sampler = torch.utils.data.WeightedRandomSampler(weights = example_weights, num_samples= len(labels))\n",
    "    \n",
    "    return sampler\n",
    "\n",
    "train_sampler = get_sampler(trainset_kaggle)\n",
    "test_sampler = get_sampler(testset_kaggle)"
   ]
  },
  {
   "cell_type": "code",
   "execution_count": 719,
   "metadata": {},
   "outputs": [],
   "source": [
    "batch_size = 64\n",
    "\n",
    "trainloader_kaggle = torch.utils.data.DataLoader(trainset_kaggle, sampler = train_sampler, batch_size = batch_size, drop_last = True)\n",
    "testloader_kaggle = torch.utils.data.DataLoader(testset_kaggle, sampler = test_sampler, batch_size = batch_size, drop_last = True)\n",
    "#testloader_kaggle = torch.utils.data.DataLoader(testset, batch_size=64, shuffle=True)\n",
    "\n",
    "#trainloader_kaggle = torch.utils.data.DataLoader(trainset_kaggle, batch_size = 64, drop_last = True, shuffle = True)\n",
    "#testloader_kaggle = torch.utils.data.DataLoader(testset_kaggle,  batch_size = 64, drop_last = True)"
   ]
  },
  {
   "cell_type": "code",
   "execution_count": null,
   "metadata": {},
   "outputs": [],
   "source": []
  },
  {
   "cell_type": "code",
   "execution_count": 622,
   "metadata": {},
   "outputs": [
    {
     "data": {
      "text/plain": [
       "tensor([ 2, 20, 23, 12, 10, 20, 23,  2, 12,  2,  4, 25, 13,  7, 23, 13, 27, 26,\n",
       "        20, 25, 24, 16, 25, 21, 23, 31,  3,  1, 24,  8,  8, 12,  1, 28, 13, 16,\n",
       "        33, 12, 26,  9, 17, 26, 25,  8, 31,  8, 22, 17,  6, 25,  5,  6,  1, 30,\n",
       "        24, 33,  6, 33, 11, 12, 20, 33, 31, 17])"
      ]
     },
     "execution_count": 622,
     "metadata": {},
     "output_type": "execute_result"
    }
   ],
   "source": [
    "dataiter = iter(testloader_kaggle)\n",
    "images, labels = next(dataiter)\n",
    "labels"
   ]
  },
  {
   "cell_type": "code",
   "execution_count": 525,
   "metadata": {},
   "outputs": [],
   "source": [
    "#labels_loader = []\n",
    "#for images, labels in iter(trainloader_kaggle):\n",
    "#    for label in labels:\n",
    "#        labels_loader.append(label)\n",
    "    \n",
    "#labels_sub = []\n",
    "#for image, label in iter(dataset_kaggle_subset):\n",
    "#    labels_sub.append(label)\n",
    "    \n",
    "#plt.hist(labels_loader, bins = len(class_mappings) )\n",
    "#plt.show()\n",
    "#plt.hist(labels_sub, bins = len(class_mappings) )\n",
    "#plt.show()"
   ]
  },
  {
   "cell_type": "code",
   "execution_count": null,
   "metadata": {},
   "outputs": [],
   "source": []
  },
  {
   "cell_type": "markdown",
   "metadata": {},
   "source": [
    "Lets inspect the newly created trainloader by printing a few images along with their labels."
   ]
  },
  {
   "cell_type": "code",
   "execution_count": 720,
   "metadata": {},
   "outputs": [
    {
     "name": "stdout",
     "output_type": "stream",
     "text": [
      "236 batches available\n",
      "batch dimensions torch.Size([64, 1, 28, 28]) (batch_size, channels, width, height)\n"
     ]
    },
    {
     "data": {
      "image/png": "[encoded data removed]",
      "text/plain": [
       "<Figure size 432x288 with 5 Axes>"
      ]
     },
     "metadata": {
      "needs_background": "light"
     },
     "output_type": "display_data"
    }
   ],
   "source": [
    "dataiter = iter(trainloader_kaggle)\n",
    "images, labels = dataiter.next()\n",
    "print(f\"{len(dataiter)} batches available\")\n",
    "print(f\"batch dimensions {images.shape} (batch_size, channels, width, height)\")\n",
    "\n",
    "n_images = 5\n",
    "fig, axes = plt.subplots(1, n_images)\n",
    "for i in range(n_images):\n",
    "    axes[i].imshow(images[i].numpy().squeeze())\n",
    "    axes[i].set_title(class_mappings_reverse[int(labels[i].numpy().reshape(-1)[0])])\n",
    "plt.show()"
   ]
  },
  {
   "cell_type": "markdown",
   "metadata": {},
   "source": [
    "And check if batches are balanced."
   ]
  },
  {
   "cell_type": "markdown",
   "metadata": {},
   "source": [
    "how_many_to_plot = 20\n",
    "\n",
    "for i, batch in enumerate(trainloader_kaggle, start=1):\n",
    "    images, labels = batch\n",
    "    plt.subplot(10,10,i)\n",
    "    plt.imshow(image)\n",
    "    plt.axis('off')\n",
    "    #plt.title(train_set.classes[label.item()], fontsize=28)\n",
    "    if (i >= how_many_to_plot): break\n",
    "plt.show()"
   ]
  },
  {
   "cell_type": "markdown",
   "metadata": {},
   "source": [
    "import sys\n",
    "def _find_classes(dir):\n",
    "        \"\"\"\n",
    "        Finds the class folders in a dataset.\n",
    "        Args:\n",
    "            dir (string): Root directory path.\n",
    "        Returns:\n",
    "            tuple: (classes, class_to_idx) where classes are relative to (dir), and class_to_idx is a dictionary.\n",
    "        Ensures:\n",
    "            No class is a subdirectory of another.\n",
    "        \"\"\"\n",
    "        if sys.version_info >= (3, 5):\n",
    "            # Faster and available in Python 3.5 and above\n",
    "            classes = [d.name for d in os.scandir(dir) if d.is_dir()]\n",
    "        else:\n",
    "            classes = [d for d in os.listdir(dir) if os.path.isdir(os.path.join(dir, d))]\n",
    "        classes.sort()\n",
    "        class_to_idx = {classes[i]: i for i in range(len(classes))}\n",
    "        print(classes)\n",
    "        return classes, class_to_idx\n",
    "    \n",
    "_find_classes('./data/kaggle_math_symbols')"
   ]
  },
  {
   "cell_type": "markdown",
   "metadata": {},
   "source": [
    "# Train Model"
   ]
  },
  {
   "cell_type": "code",
   "execution_count": 599,
   "metadata": {},
   "outputs": [],
   "source": [
    "import numpy as np\n",
    "import torch\n",
    "import torchvision\n",
    "import matplotlib.pyplot as plt\n",
    "from time import time\n",
    "from torchvision import datasets, transforms\n",
    "from torch import nn, optim"
   ]
  },
  {
   "cell_type": "markdown",
   "metadata": {},
   "source": [
    "## Model class"
   ]
  },
  {
   "cell_type": "code",
   "execution_count": 600,
   "metadata": {},
   "outputs": [],
   "source": [
    "#!pygmentize model/model.py"
   ]
  },
  {
   "cell_type": "code",
   "execution_count": 744,
   "metadata": {},
   "outputs": [],
   "source": [
    "class Cnn(nn.Module):\n",
    "    \"\"\"\n",
    "    custom model for math symbol labeling\n",
    "    \"\"\"\n",
    "    \n",
    "    def __init__(self, input_dim, hidden_dim, output_dim, dropout_rate):\n",
    "        '''Defines layers of a neural network.\n",
    "        params:\n",
    "           input_dim: Input layer dimensions (features)\n",
    "           hidden_dim: Hidden layer dimensions\n",
    "           output_dim: Output dimensions\n",
    "         '''\n",
    "        super(Cnn, self).__init__()   \n",
    "           \n",
    "        self.fc1 = nn.Linear(input_dim, hidden_dim)  #batch_size, channels*height*width\n",
    "        self.fc2 = nn.Linear(hidden_dim, hidden_dim)\n",
    "        self.fc3 = nn.Linear(hidden_dim, output_dim)\n",
    "        \n",
    "        self.activation = nn.functional.relu\n",
    "        \n",
    "        self.drop = nn.Dropout(dropout_rate)\n",
    "        \n",
    "        \n",
    "    def forward(self, out):\n",
    "        '''Feedforward sequence\n",
    "        params:\n",
    "            out: input data which will be transformed to model output\n",
    "         '''\n",
    "        \n",
    "        out = out.view(out.size(0),-1)\n",
    "        out = self.activation(self.fc1(out))\n",
    "        out = self.drop(out)\n",
    "        out = self.activation(self.fc2(out))\n",
    "        out = self.fc3(out)\n",
    "        \n",
    "        return out\n",
    "\n"
   ]
  },
  {
   "cell_type": "code",
   "execution_count": 745,
   "metadata": {},
   "outputs": [],
   "source": [
    "def train(model, trainloader, epochs, optimizer, criterion, device):\n",
    "    \"\"\"\n",
    "    This is the training method that is called by the PyTorch training script. The parameters\n",
    "    passed are as follows:\n",
    "    model        - The PyTorch model that we wish to train.\n",
    "    train_loader - The PyTorch DataLoader that should be used during training.\n",
    "    epochs       - The total number of epochs to train for.\n",
    "    optimizer    - The optimizer to use during training.\n",
    "    criterion    - The loss function used for training. \n",
    "    device       - Where the model and data should be loaded (gpu or cpu).\n",
    "    \"\"\"\n",
    "    \n",
    "    for epoch in range(1, epochs + 1):\n",
    "        \n",
    "        #set model to train mode\n",
    "        model.train()\n",
    "        running_loss = 0\n",
    "        \n",
    "        \n",
    "        for i, batch in enumerate(trainloader, 0):\n",
    "            #move it (model and data tensors) to GPU if available (.to(cuda))\n",
    "            batch_inputs, batch_labels = batch\n",
    "            inputs, labels = batch_inputs.to(device), batch_labels.to(device)\n",
    "            \n",
    "            #zero the garient parameters\n",
    "            optimizer.zero_grad() \n",
    "            \n",
    "            # get output of model (forawrd + backward + optimize)\n",
    "            outputs = model(inputs.float())\n",
    "            loss = criterion(outputs, labels)\n",
    "            loss.backward()\n",
    "            optimizer.step()\n",
    "            running_loss += loss.item()\n",
    "        \n",
    "        print(\"Epoch: {}, Loss: {}\".format(epoch, running_loss / len(trainloader)))\n",
    "\n",
    "    return model"
   ]
  },
  {
   "cell_type": "code",
   "execution_count": 746,
   "metadata": {},
   "outputs": [],
   "source": [
    "input_dim = 28*28\n",
    "hidden_dim = 100\n",
    "output_dim = n_classes\n",
    "\n",
    "\n",
    "model = Cnn(input_dim, hidden_dim, output_dim, 0.2)"
   ]
  },
  {
   "cell_type": "code",
   "execution_count": 747,
   "metadata": {},
   "outputs": [
    {
     "name": "stdout",
     "output_type": "stream",
     "text": [
      "cuda\n"
     ]
    }
   ],
   "source": [
    "## TODO: Define an optimizer and loss function for training\n",
    "device = torch.device(\"cuda\" if torch.cuda.is_available() else \"cpu\")\n",
    "\n",
    "optimizer = optim.Adam(model.parameters(), lr = 0.001)\n",
    "#optimizer = optim.SGD(model.parameters(), lr=0.001, momentum=0.9)\n",
    "#criterion = nn.BCELoss()\n",
    "criterion = nn.CrossEntropyLoss()\n",
    "epochs = 10\n",
    "model = model.to(device)\n",
    "print(device)\n"
   ]
  },
  {
   "cell_type": "code",
   "execution_count": 748,
   "metadata": {},
   "outputs": [
    {
     "name": "stdout",
     "output_type": "stream",
     "text": [
      "Epoch: 1, Loss: 1.8490953296422958\n",
      "Epoch: 2, Loss: 0.9145989406664493\n",
      "Epoch: 3, Loss: 0.6449120253071947\n",
      "Epoch: 4, Loss: 0.5061707228927289\n",
      "Epoch: 5, Loss: 0.39468177591087455\n",
      "Epoch: 6, Loss: 0.33897141165147393\n",
      "Epoch: 7, Loss: 0.2832219177951752\n",
      "Epoch: 8, Loss: 0.2309455839064667\n",
      "Epoch: 9, Loss: 0.23034757022130287\n",
      "Epoch: 10, Loss: 0.18856797222111185\n"
     ]
    },
    {
     "data": {
      "text/plain": [
       "Cnn(\n",
       "  (fc1): Linear(in_features=784, out_features=100, bias=True)\n",
       "  (fc2): Linear(in_features=100, out_features=100, bias=True)\n",
       "  (fc3): Linear(in_features=100, out_features=34, bias=True)\n",
       "  (drop): Dropout(p=0.2)\n",
       ")"
      ]
     },
     "execution_count": 748,
     "metadata": {},
     "output_type": "execute_result"
    }
   ],
   "source": [
    "train(model, trainloader_kaggle, epochs, optimizer, criterion, device)"
   ]
  },
  {
   "cell_type": "markdown",
   "metadata": {},
   "source": [
    "# Predict and Evaluate Model"
   ]
  },
  {
   "cell_type": "code",
   "execution_count": 749,
   "metadata": {},
   "outputs": [],
   "source": [
    "def predict(data, model):\n",
    "    # convert data to numpy array then to Tensor\n",
    "    #data = torch.from_numpy(data.astype('float32'))\n",
    "    data = data.to(device)\n",
    "\n",
    "    # Turn on evaluation mode\n",
    "    model.eval()\n",
    "    \n",
    "    with torch.no_grad():\n",
    "        out = model(data.float())\n",
    "        result = out.cpu().detach().numpy()\n",
    "\n",
    "    #print(result)\n",
    "    return result\n",
    "    "
   ]
  },
  {
   "cell_type": "code",
   "execution_count": 750,
   "metadata": {},
   "outputs": [
    {
     "data": {
      "image/png": "[encoded data removed]",
      "text/plain": [
       "<Figure size 1440x1800 with 64 Axes>"
      ]
     },
     "metadata": {
      "needs_background": "light"
     },
     "output_type": "display_data"
    },
    {
     "name": "stdout",
     "output_type": "stream",
     "text": [
      "Accuracy on test batch: 75.00% \n",
      "Batch size: 64\n"
     ]
    }
   ],
   "source": [
    "def check_predictions(loader, mappings = {}, batches = 1):\n",
    "    \n",
    "    dataiter = iter(loader)\n",
    "    for i in range(batches):\n",
    "        images, labels = dataiter.next()\n",
    "\n",
    "        batch_size = len(images)\n",
    "\n",
    "\n",
    "        fig = plt.figure(figsize=(20,25))\n",
    "        fig.suptitle('Images of one batch with color-coded predictions', fontsize=16)\n",
    "\n",
    "        #compute subplot dimensions\n",
    "        n_columns = 7\n",
    "\n",
    "        if batch_size % n_columns:\n",
    "            n_rows = batch_size // n_columns + 1 \n",
    "        else:\n",
    "            n_rows = batch_size // n_columns\n",
    "\n",
    "        predictions = []\n",
    "        for n, image in enumerate(images):\n",
    "            prediction = predict(image, model)\n",
    "            predictions.append(np.argmax(prediction))\n",
    "            plt.subplot(n_rows, n_columns, n+1)\n",
    "            plt.imshow(image.numpy().squeeze())\n",
    "            color = 'g' if np.argmax(prediction) == labels[n] else 'r'\n",
    "            if mappings:\n",
    "                plt.title(mappings[np.argmax(prediction)], color=color)\n",
    "            plt.axis('off')\n",
    "\n",
    "\n",
    "        accuracy = (np.sum(predictions == labels.numpy())) / batch_size\n",
    "\n",
    "        plt.show()\n",
    "        print(f\"Accuracy on test batch: {accuracy * 100:.2f}% \")\n",
    "        print(f\"Batch size: {batch_size}\")\n",
    "    \n",
    "check_predictions(testloader_kaggle, class_mappings_reverse)"
   ]
  },
  {
   "cell_type": "markdown",
   "metadata": {},
   "source": [
    "# Evaluate with data from the handwritten equations"
   ]
  },
  {
   "cell_type": "code",
   "execution_count": 757,
   "metadata": {},
   "outputs": [
    {
     "name": "stdout",
     "output_type": "stream",
     "text": [
      "first n files in sample folder ./data/scanned_images/example_1 : ['00.jpg', '01.jpg', '010.jpg', '02.jpg', '03.jpg', '04.jpg', '05.jpg', '06.jpg', '07.jpg', '08.jpg']\n"
     ]
    }
   ],
   "source": [
    "#check files\n",
    "sample_data_dir = './data/scanned_images/'\n",
    "sample_folder_dir = os.path.join(sample_data_dir, 'example_1')\n",
    "\n",
    "\n",
    "sample_files = os.listdir(sample_folder_dir)[:10]\n",
    "print(f\"first n files in sample folder {sample_folder_dir} : {sample_files}\")"
   ]
  },
  {
   "cell_type": "code",
   "execution_count": 758,
   "metadata": {},
   "outputs": [
    {
     "data": {
      "image/png": "[encoded data removed]",
      "text/plain": [
       "<Figure size 432x288 with 2 Axes>"
      ]
     },
     "metadata": {
      "needs_background": "light"
     },
     "output_type": "display_data"
    },
    {
     "name": "stdout",
     "output_type": "stream",
     "text": [
      "02.jpg\n",
      "image size : (28, 28)\n",
      "first row of image matrix: [[ 5  5  5]\n",
      " [ 0  0  0]\n",
      " [13 13 13]\n",
      " [ 0  0  0]\n",
      " [ 0  0  0]\n",
      " [14 14 14]\n",
      " [ 0  0  0]\n",
      " [ 1  1  1]\n",
      " [ 0  0  0]\n",
      " [ 0  0  0]\n",
      " [ 1  1  1]\n",
      " [ 0  0  0]\n",
      " [ 9  9  9]\n",
      " [ 0  0  0]\n",
      " [ 0  0  0]\n",
      " [ 1  1  1]\n",
      " [10 10 10]\n",
      " [ 0  0  0]\n",
      " [ 0  0  0]\n",
      " [ 8  8  8]\n",
      " [ 0  0  0]\n",
      " [ 0  0  0]\n",
      " [ 6  6  6]\n",
      " [ 3  3  3]\n",
      " [ 0  0  0]\n",
      " [ 0  0  0]\n",
      " [ 0  0  0]\n",
      " [ 0  0  0]]\n"
     ]
    }
   ],
   "source": [
    "#inspect one image\n",
    "random = np.random.randint(len(sample_files))\n",
    "\n",
    "with Image.open(os.path.join(sample_folder_dir, sample_files[random])) as image:\n",
    "    fig, axes = plt.subplots(1,2)\n",
    "    axes[0].imshow(image)\n",
    "    axes[0].set_title(\"original image\")\n",
    "    axes[1].hist(np.array(image).reshape(-1))\n",
    "    axes[1].set_title(\"pixel value distribution\")\n",
    "    plt.show()\n",
    "    print(sample_files[random])\n",
    "    print(f\"image size : {image.size}\")\n",
    "    print(f\"first row of image matrix: {np.array(image)[0]}\")"
   ]
  },
  {
   "cell_type": "code",
   "execution_count": 759,
   "metadata": {},
   "outputs": [],
   "source": [
    "def preprocess_scan_image(path):\n",
    "    \n",
    "    with Image.open(path) as image:\n",
    "        image_gray = ImageOps.grayscale(image)\n",
    "        #array = np.asarray(gray)\n",
    "        #image_resized = image.resize((28,28))\n",
    "        #image_inv = ImageOps.invert(image_gray)\n",
    "        image_norm = np.array(image_gray)/np.max(np.array(image_gray))\n",
    "        \n",
    "        thresh = 0.5\n",
    "        image_threshed = image_norm\n",
    "        image_threshed[image_threshed < thresh] = 0\n",
    "        image_threshed[image_threshed >= thresh] = 1 \n",
    "\n",
    "    return image_threshed"
   ]
  },
  {
   "cell_type": "code",
   "execution_count": 760,
   "metadata": {},
   "outputs": [
    {
     "name": "stdout",
     "output_type": "stream",
     "text": [
      "<class 'torchvision.datasets.folder.ImageFolder'>\n",
      "dataset created with 30 datapoints\n",
      "[0. 0. 0. 0. 0. 0. 0. 0. 0. 0. 0. 0. 0. 0. 0. 0. 0. 0. 0. 0. 0. 0. 0. 0.\n",
      " 0. 0. 0. 0.]\n",
      "label: 0\n",
      "[0. 0. 0. 0. 0. 0. 0. 0. 0. 0. 0. 0. 0. 0. 0. 0. 0. 0. 0. 0. 0. 0. 0. 0.\n",
      " 0. 0. 0. 0.]\n",
      "label: 0\n"
     ]
    }
   ],
   "source": [
    "transform_scan = transforms.Compose([ transforms.ToTensor() ])\n",
    "dataset_scan = datasets.ImageFolder(sample_data_dir, transform = transform_scan, loader = preprocess_scan_image)\n",
    "\n",
    "print(type(dataset_scan))\n",
    "print(f\"dataset created with {len(dataset_scan)} datapoints\")\n",
    "\n",
    "\n",
    "dataset_scan_iterator = iter(dataset_scan)\n",
    "for i in range(2):\n",
    "    image, label = next(dataset_scan_iterator)\n",
    "    print(image.numpy()[0][0,:])\n",
    "    print(f\"label: {label}\")\n",
    "    \n"
   ]
  },
  {
   "cell_type": "code",
   "execution_count": 761,
   "metadata": {},
   "outputs": [],
   "source": [
    "trainloader_scan = torch.utils.data.DataLoader(dataset_scan)"
   ]
  },
  {
   "cell_type": "code",
   "execution_count": 762,
   "metadata": {},
   "outputs": [
    {
     "name": "stdout",
     "output_type": "stream",
     "text": [
      "[[ -2.4169164  -13.798329     8.761542   -13.845312    14.982787\n",
      "   -4.8378744   -2.727015   -11.0739355   -4.2691956    1.4529957\n",
      "   -7.369164    -8.047596    -2.2079992  -17.634825   -14.902475\n",
      "   -1.8203087  -25.617594   -18.2564      -8.907851    -8.029495\n",
      "    0.69192934  -4.2131042    0.5396029   -1.796152    -8.141763\n",
      "   -6.469149    -5.662443    -6.248439   -24.818115    -4.821986\n",
      "  -11.988048     1.6374303  -17.621325    -1.783622  ]]\n",
      "4\n",
      " predicted mapped class : -\n"
     ]
    },
    {
     "data": {
      "image/png": "[encoded data removed]",
      "text/plain": [
       "<Figure size 432x288 with 1 Axes>"
      ]
     },
     "metadata": {
      "needs_background": "light"
     },
     "output_type": "display_data"
    },
    {
     "data": {
      "image/png": "[encoded data removed]",
      "text/plain": [
       "<Figure size 432x288 with 1 Axes>"
      ]
     },
     "metadata": {
      "needs_background": "light"
     },
     "output_type": "display_data"
    },
    {
     "name": "stdout",
     "output_type": "stream",
     "text": [
      "[[-15.0406065  -12.724156     4.115253   -17.326784    -4.9352226\n",
      "   -0.43216985  -0.35081217   0.1631434   -9.123689    -0.6358361\n",
      "   -5.5719123  -22.28202     -8.055235   -23.692247   -13.663114\n",
      "   17.702938   -46.732098   -30.904509    -6.2665854   -3.9188046\n",
      "   -4.8606086  -21.364235   -16.059496   -14.013874    -8.0734\n",
      "   -5.4267664   -4.976639   -11.101759   -17.0127       6.697564\n",
      "   -4.6642485    0.9275926   -4.1814847    1.1901455 ]]\n",
      "15\n",
      " predicted mapped class : =\n"
     ]
    },
    {
     "data": {
      "image/png": "[encoded data removed]",
      "text/plain": [
       "<Figure size 432x288 with 1 Axes>"
      ]
     },
     "metadata": {
      "needs_background": "light"
     },
     "output_type": "display_data"
    },
    {
     "data": {
      "image/png": "[encoded data removed]",
      "text/plain": [
       "<Figure size 432x288 with 1 Axes>"
      ]
     },
     "metadata": {
      "needs_background": "light"
     },
     "output_type": "display_data"
    },
    {
     "name": "stdout",
     "output_type": "stream",
     "text": [
      "[[-33.36125    -3.0617096 -19.543568  -14.287533  -41.189705   -6.532679\n",
      "   -9.217691    2.6816084  11.668101  -19.48669    -2.3802028 -17.549873\n",
      "   -0.7364039   3.498101    9.654222  -11.4405365 -27.47654    -6.2017236\n",
      "   -2.5388746 -13.818211  -16.843657   -8.86772   -21.020584  -14.116834\n",
      "  -25.391134   -8.829231  -19.977673  -22.39947    -7.5937552 -21.87471\n",
      "  -23.063595  -45.938736    3.195862   -2.190896 ]]\n",
      "8\n",
      " predicted mapped class : 3\n"
     ]
    },
    {
     "data": {
      "image/png": "[encoded data removed]",
      "text/plain": [
       "<Figure size 432x288 with 1 Axes>"
      ]
     },
     "metadata": {
      "needs_background": "light"
     },
     "output_type": "display_data"
    },
    {
     "data": {
      "image/png": "[encoded data removed]",
      "text/plain": [
       "<Figure size 432x288 with 1 Axes>"
      ]
     },
     "metadata": {
      "needs_background": "light"
     },
     "output_type": "display_data"
    },
    {
     "name": "stdout",
     "output_type": "stream",
     "text": [
      "[[-36.470814   -37.32928    -41.244038   -17.465538   -74.20318\n",
      "  -19.39016     -9.43291     14.849812    -5.4777985  -39.68257\n",
      "  -14.878887   -16.417137   -19.688858    10.454584   -15.14835\n",
      "  -11.700211   -40.078945   -39.184723    -0.86034936 -10.743619\n",
      "  -10.505234   -17.10774    -23.761303   -33.6455     -17.276232\n",
      "   -1.3414607  -46.023655   -35.236168   -35.4459     -36.839947\n",
      "  -32.672424   -52.247623     3.6518216   13.099464  ]]\n",
      "7\n",
      " predicted mapped class : 2\n"
     ]
    },
    {
     "data": {
      "image/png": "[encoded data removed]",
      "text/plain": [
       "<Figure size 432x288 with 1 Axes>"
      ]
     },
     "metadata": {
      "needs_background": "light"
     },
     "output_type": "display_data"
    },
    {
     "data": {
      "image/png": "[encoded data removed]",
      "text/plain": [
       "<Figure size 432x288 with 1 Axes>"
      ]
     },
     "metadata": {
      "needs_background": "light"
     },
     "output_type": "display_data"
    },
    {
     "name": "stdout",
     "output_type": "stream",
     "text": [
      "[[-2.6912861e+01 -1.5535811e+01 -1.0873497e+01 -6.1511860e+00\n",
      "  -4.5317230e+01 -1.1720791e+01 -5.7186284e+00 -2.2135983e+00\n",
      "  -2.4557151e-02 -5.4555144e+00 -3.3293331e+00 -2.5575304e+01\n",
      "  -3.7288890e+00  2.4053807e+00  2.2503250e+00 -1.0895109e+01\n",
      "  -3.9750580e+01 -4.0061489e+01 -1.3563019e+00 -1.7657337e+01\n",
      "  -2.0580040e+01 -4.2456460e+00 -3.6701275e+01 -2.4254705e+01\n",
      "  -8.5441580e+00 -7.6695809e+00 -2.0015484e+01 -2.8269999e+00\n",
      "  -3.6895335e+00 -2.4092300e+01 -4.8599730e+00 -3.9074810e+01\n",
      "   1.5158461e+01 -5.0957365e+00]]\n",
      "32\n",
      " predicted mapped class : y\n"
     ]
    },
    {
     "data": {
      "image/png": "[encoded data removed]",
      "text/plain": [
       "<Figure size 432x288 with 1 Axes>"
      ]
     },
     "metadata": {
      "needs_background": "light"
     },
     "output_type": "display_data"
    },
    {
     "data": {
      "image/png": "[encoded data removed]",
      "text/plain": [
       "<Figure size 432x288 with 1 Axes>"
      ]
     },
     "metadata": {
      "needs_background": "light"
     },
     "output_type": "display_data"
    },
    {
     "name": "stdout",
     "output_type": "stream",
     "text": [
      "[[-43.323452  -29.461039  -17.39775   -25.914793  -67.653534  -19.065063\n",
      "   -2.1373801   7.7659173 -10.7554245  -6.353234   -9.727132  -26.574024\n",
      "  -16.002014   -4.140835  -15.796015  -13.823196  -72.82934   -66.489044\n",
      "    7.3957334  -5.3151274 -19.823895  -19.596205  -40.97822   -43.204147\n",
      "    5.1421113  -9.762798  -39.325382  -26.494722  -13.660438  -19.999968\n",
      "  -15.843756  -40.04827    12.906549    5.523246 ]]\n",
      "32\n",
      " predicted mapped class : y\n"
     ]
    },
    {
     "data": {
      "image/png": "[encoded data removed]",
      "text/plain": [
       "<Figure size 432x288 with 1 Axes>"
      ]
     },
     "metadata": {
      "needs_background": "light"
     },
     "output_type": "display_data"
    },
    {
     "data": {
      "image/png": "[encoded data removed]",
      "text/plain": [
       "<Figure size 432x288 with 1 Axes>"
      ]
     },
     "metadata": {
      "needs_background": "light"
     },
     "output_type": "display_data"
    },
    {
     "name": "stdout",
     "output_type": "stream",
     "text": [
      "[[ -6.454819    -7.492502     7.951698   -13.773137   -10.578206\n",
      "   -8.992939    -0.552709    -9.804666    -5.488614     5.13776\n",
      "  -11.371088    -6.68989     -4.1219044   -6.9675484  -15.016783\n",
      "   -7.5382633  -29.911877   -24.884321    -3.1737082   -3.4593952\n",
      "   -5.3225017   -1.0604062  -10.702101    -7.3489084   -0.47884125\n",
      "   -3.8387558  -17.182821   -12.995169    -8.648145   -10.814708\n",
      "   -8.000213   -12.61876     -6.3168445   -4.2014637 ]]\n",
      "2\n",
      " predicted mapped class : +\n"
     ]
    },
    {
     "data": {
      "image/png": "[encoded data removed]",
      "text/plain": [
       "<Figure size 432x288 with 1 Axes>"
      ]
     },
     "metadata": {
      "needs_background": "light"
     },
     "output_type": "display_data"
    },
    {
     "data": {
      "image/png": "[encoded data removed]",
      "text/plain": [
       "<Figure size 432x288 with 1 Axes>"
      ]
     },
     "metadata": {
      "needs_background": "light"
     },
     "output_type": "display_data"
    },
    {
     "name": "stdout",
     "output_type": "stream",
     "text": [
      "[[ -6.101351    -1.8181429   -4.649159    -1.4025313  -30.763391\n",
      "  -15.035781     3.3301637   -3.8887708   -3.7876723   -5.460036\n",
      "   -9.682052    -7.5058703   -9.754275     0.08941054 -12.402303\n",
      "  -10.542624   -22.91219    -12.821345    -4.0619054   -4.3850884\n",
      "  -12.131696     1.6467077  -10.611313    -5.291959    -9.096443\n",
      "   -1.9546752  -29.306637   -21.690214    -1.9090714  -25.52731\n",
      "   -9.304536   -32.421284     0.49478203  -9.411834  ]]\n",
      "6\n",
      " predicted mapped class : 1\n"
     ]
    },
    {
     "data": {
      "image/png": "[encoded data removed]",
      "text/plain": [
       "<Figure size 432x288 with 1 Axes>"
      ]
     },
     "metadata": {
      "needs_background": "light"
     },
     "output_type": "display_data"
    },
    {
     "data": {
      "image/png": "[encoded data removed]",
      "text/plain": [
       "<Figure size 432x288 with 1 Axes>"
      ]
     },
     "metadata": {
      "needs_background": "light"
     },
     "output_type": "display_data"
    },
    {
     "name": "stdout",
     "output_type": "stream",
     "text": [
      "[[-2.5736717e+01 -1.8085464e+01 -2.9202415e+01 -1.2811581e+01\n",
      "  -4.6543884e+01 -5.5877433e+00 -5.7031775e+00  1.0873034e+01\n",
      "   2.5027452e+00 -3.0842945e+01 -8.4849777e+00 -1.7713486e+01\n",
      "  -1.0738020e+01  3.4854138e+00  2.5262005e+00 -5.0576138e+00\n",
      "  -1.9165541e+01 -1.1432463e+01 -3.4094102e+00 -1.3481016e+01\n",
      "  -7.1375117e+00 -1.5331575e+01 -1.7250971e+01 -2.3369389e+01\n",
      "  -2.3719681e+01  1.2013763e-02 -2.4159033e+01 -2.2374979e+01\n",
      "  -1.9484564e+01 -2.3294662e+01 -2.3186872e+01 -4.3819626e+01\n",
      "   8.9711469e-01  3.8865626e+00]]\n",
      "7\n",
      " predicted mapped class : 2\n"
     ]
    },
    {
     "data": {
      "image/png": "[encoded data removed]",
      "text/plain": [
       "<Figure size 432x288 with 1 Axes>"
      ]
     },
     "metadata": {
      "needs_background": "light"
     },
     "output_type": "display_data"
    },
    {
     "data": {
      "image/png": "[encoded data removed]",
      "text/plain": [
       "<Figure size 432x288 with 1 Axes>"
      ]
     },
     "metadata": {
      "needs_background": "light"
     },
     "output_type": "display_data"
    },
    {
     "name": "stdout",
     "output_type": "stream",
     "text": [
      "[[-10.666355   -29.180376    -9.672501   -33.27404    -29.369902\n",
      "    9.671719   -10.041585    -4.284358   -13.419742    -0.9632634\n",
      "  -12.18852      1.634019    -9.94907     -6.5852804   -7.2430053\n",
      "  -10.541324   -28.20669    -26.474245     0.50603807  -7.476974\n",
      "   -7.4532595  -14.579381   -30.48612    -21.79204    -13.337683\n",
      "   -6.4505496   -4.7704687  -14.126113   -13.694788    -0.410666\n",
      "   -2.4025693  -22.693167    -7.704364    -7.6781836 ]]\n",
      "5\n",
      " predicted mapped class : 0\n"
     ]
    },
    {
     "data": {
      "image/png": "[encoded data removed]",
      "text/plain": [
       "<Figure size 432x288 with 1 Axes>"
      ]
     },
     "metadata": {
      "needs_background": "light"
     },
     "output_type": "display_data"
    },
    {
     "data": {
      "image/png": "[encoded data removed]",
      "text/plain": [
       "<Figure size 432x288 with 1 Axes>"
      ]
     },
     "metadata": {
      "needs_background": "light"
     },
     "output_type": "display_data"
    }
   ],
   "source": [
    "n_samples = 10\n",
    "\n",
    "dataiter = iter(trainloader_scan)\n",
    "for i in range(n_samples):\n",
    "    \n",
    "    images, labels = dataiter.next()\n",
    "    for image in images:\n",
    "        prediction = predict(image, model)\n",
    "        print(prediction)\n",
    "        print(np.argmax(prediction))\n",
    "        print(f\" predicted mapped class : {class_mappings_reverse[np.argmax(prediction)]}\")\n",
    "        plt.bar(x = class_mappings.keys(), height = prediction[0])\n",
    "        plt.show()\n",
    "        plt.imshow(image.numpy().squeeze())\n",
    "        plt.show()"
   ]
  },
  {
   "cell_type": "code",
   "execution_count": 763,
   "metadata": {},
   "outputs": [
    {
     "name": "stdout",
     "output_type": "stream",
     "text": [
      "[0. 0. 0. 0. 0. 1. 1. 0. 0. 0. 0. 0. 0. 0. 0. 0. 0. 0. 0. 0. 0. 0. 0. 0.\n",
      " 0. 0. 0. 0. 0. 0. 0. 0. 1. 1. 0. 0. 0. 0. 0. 0. 0. 0. 1. 1. 1. 0. 0. 0.\n",
      " 0. 0. 0. 0. 0. 0. 0. 0. 0. 0. 0. 0. 1. 1. 0. 0. 0. 0. 0. 0. 0. 0. 1. 1.\n",
      " 1. 0. 0. 0. 0. 0. 0. 0. 0. 0. 0. 0. 0. 0. 0. 0. 1. 1. 0. 0. 0. 0. 0. 0.\n",
      " 0. 1. 1. 1. 1. 0. 0. 0. 0. 0. 0. 0. 0. 0. 0. 0. 0. 0. 0. 0. 1. 1. 0. 0.\n",
      " 0. 0. 0. 0. 0. 1. 1. 1. 1. 0. 0. 0. 0. 0. 0. 0. 0. 0. 0. 0. 0. 0. 0. 0.\n",
      " 0. 1. 1. 0. 0. 0. 0. 0. 0. 1. 0. 0. 1. 1. 0. 0. 0. 0. 0. 0. 0. 0. 0. 0.\n",
      " 0. 0. 0. 0. 0. 1. 1. 0. 0. 0. 0. 0. 1. 1. 0. 0. 1. 1. 0. 0. 0. 0. 0. 0.\n",
      " 0. 0. 0. 0. 0. 0. 0. 0. 0. 1. 1. 0. 0. 0. 0. 1. 1. 0. 0. 0. 1. 1. 0. 0.\n",
      " 0. 0. 0. 0. 0. 0. 0. 0. 0. 0. 0. 0. 0. 1. 1. 0. 0. 0. 1. 1. 0. 0. 0. 0.\n",
      " 0. 1. 1. 0. 0. 0. 0. 0. 0. 0. 0. 0. 0. 0. 0. 0. 0. 1. 1. 0. 0. 0. 1. 1.\n",
      " 0. 0. 0. 0. 0. 1. 1. 0. 0. 0. 0. 0. 0. 0. 0. 0. 0. 0. 0. 0. 0. 0. 1. 1.\n",
      " 0. 1. 1. 0. 0. 0. 0. 0. 0. 1. 1. 0. 0. 0. 0. 0. 0. 0. 0. 0. 0. 0. 0. 0.\n",
      " 0. 0. 1. 1. 1. 1. 1. 0. 0. 0. 0. 0. 0. 1. 1. 0. 0. 0. 0. 0. 0. 0. 0. 0.\n",
      " 0. 0. 0. 0. 0. 0. 0. 1. 1. 0. 0. 0. 0. 0. 0. 0. 0. 1. 1. 0. 0. 0. 0. 0.\n",
      " 0. 0. 0. 0. 0. 0. 0. 0. 0. 0. 0. 0. 0. 0. 0. 0. 0. 0. 0. 0. 0. 1. 1. 0.\n",
      " 0. 0. 0. 0. 0. 0. 0. 0. 0. 0. 0. 0. 0. 0. 0. 0. 0. 0. 0. 0. 0. 0. 0. 0.\n",
      " 0. 1. 1. 0. 0. 0. 0. 0. 0. 0. 0. 0. 0. 0. 0. 0. 0. 0. 0. 0. 0. 0. 0. 0.\n",
      " 0. 0. 0. 0. 0. 0. 1. 0. 0. 0. 0. 0. 0. 0. 0. 0. 0. 0. 0. 0. 0. 0. 0. 0.\n",
      " 0. 0. 0. 0. 0. 0. 0. 0. 0. 0. 1. 0. 0. 0. 1. 0. 0. 0. 0. 0. 0. 0. 0. 0.\n",
      " 0. 0. 0. 1. 1. 1. 1. 1. 1. 1. 1. 1. 1. 1. 1. 1. 1. 1. 1. 0. 0. 0. 0. 0.\n",
      " 0. 0. 0. 0. 0. 0. 0. 1. 1. 1. 1. 1. 1. 1. 1. 1. 1. 1. 1. 1. 1. 1. 0. 0.\n",
      " 0. 0. 0. 0. 0. 0. 0. 0. 0. 0. 0. 0. 1. 1. 0. 0. 0. 0. 0. 0. 0. 0. 1. 0.\n",
      " 0. 0. 0. 0. 0. 0. 0. 0. 0. 0. 0. 0. 0. 0. 0. 0. 0. 1. 0. 0. 0. 0. 0. 0.\n",
      " 0. 0. 1. 0. 0. 0. 0. 0. 0. 0. 0. 0. 0. 0. 0. 0. 0. 0. 0. 0. 0. 1. 1. 0.\n",
      " 0. 0. 0. 0. 0. 0. 1. 0. 0. 0. 0. 0. 0. 0. 0. 0. 0. 0. 0. 0. 0. 0. 0. 0.\n",
      " 0. 0. 1. 1. 0. 0. 0. 0. 0. 0. 1. 0. 0. 0. 0. 0. 0. 0. 0. 0. 0. 0. 0. 0.\n",
      " 0. 0. 0. 0. 0. 0. 0. 1. 1. 0. 0. 0. 0. 0. 1. 0. 0. 0. 0. 0. 0. 0. 0. 0.\n",
      " 0. 0. 0. 0. 0. 0. 0. 0. 0. 0. 0. 0. 1. 1. 0. 0. 0. 0. 1. 0. 0. 0. 0. 0.\n",
      " 0. 0. 0. 0. 0. 0. 0. 0. 0. 0. 0. 0. 0. 0. 0. 0. 0. 1. 1. 1. 0. 0. 1. 0.\n",
      " 0. 0. 0. 0. 0. 0. 0. 0. 0. 0. 0. 0. 0. 0. 0. 0. 0. 0. 0. 0. 0. 0. 1. 1.\n",
      " 1. 1. 1. 0. 0. 0. 0. 0. 0. 0. 0. 0. 0. 0. 0. 0. 0. 0. 0. 0. 0. 0. 0. 0.\n",
      " 0. 0. 0. 0. 1. 1. 0. 0. 0. 0. 0. 0. 0. 0. 0. 0.]\n"
     ]
    },
    {
     "data": {
      "text/plain": [
       "(array([648.,   0.,   0.,   0.,   0.,   0.,   0.,   0.,   0., 136.]),\n",
       " array([0. , 0.1, 0.2, 0.3, 0.4, 0.5, 0.6, 0.7, 0.8, 0.9, 1. ]),\n",
       " <a list of 10 Patch objects>)"
      ]
     },
     "execution_count": 763,
     "metadata": {},
     "output_type": "execute_result"
    },
    {
     "data": {
      "image/png": "[encoded data removed]",
      "text/plain": [
       "<Figure size 432x288 with 1 Axes>"
      ]
     },
     "metadata": {
      "needs_background": "light"
     },
     "output_type": "display_data"
    }
   ],
   "source": [
    "images, labels = next(iter(trainloader_kaggle))\n",
    "print(images[0].numpy().squeeze().reshape(-1))\n",
    "plt.hist(images[0].numpy().squeeze().reshape(-1))"
   ]
  },
  {
   "cell_type": "code",
   "execution_count": 764,
   "metadata": {},
   "outputs": [
    {
     "name": "stdout",
     "output_type": "stream",
     "text": [
      "tensor([[[0., 0., 0., 0., 0., 0., 0., 0., 0., 0., 0., 0., 0., 0., 0., 0., 0.,\n",
      "          0., 0., 0., 0., 0., 0., 0., 0., 0., 0., 0.],\n",
      "         [0., 0., 0., 0., 0., 0., 0., 0., 0., 0., 0., 0., 0., 0., 0., 0., 0.,\n",
      "          0., 0., 0., 0., 0., 0., 0., 0., 0., 0., 0.],\n",
      "         [0., 0., 0., 0., 0., 0., 0., 0., 0., 0., 0., 0., 0., 0., 0., 0., 0.,\n",
      "          0., 0., 0., 0., 0., 0., 0., 0., 0., 0., 0.],\n",
      "         [0., 0., 0., 0., 0., 0., 0., 0., 0., 0., 0., 0., 0., 0., 0., 0., 0.,\n",
      "          0., 0., 0., 0., 0., 0., 0., 0., 0., 0., 0.],\n",
      "         [0., 0., 0., 0., 0., 0., 0., 0., 0., 0., 0., 0., 0., 0., 0., 0., 0.,\n",
      "          0., 0., 0., 0., 0., 0., 0., 0., 0., 0., 0.],\n",
      "         [0., 0., 0., 0., 0., 0., 0., 0., 0., 0., 0., 0., 0., 0., 0., 0., 0.,\n",
      "          0., 0., 0., 0., 0., 0., 0., 0., 0., 0., 0.],\n",
      "         [0., 0., 0., 0., 0., 0., 0., 0., 0., 0., 0., 0., 0., 0., 0., 0., 0.,\n",
      "          0., 0., 0., 0., 0., 0., 0., 0., 0., 0., 0.],\n",
      "         [0., 0., 0., 0., 0., 0., 0., 0., 0., 0., 0., 0., 0., 0., 0., 0., 0.,\n",
      "          0., 0., 0., 0., 0., 0., 0., 0., 0., 0., 0.],\n",
      "         [0., 0., 0., 0., 0., 0., 0., 0., 0., 0., 0., 0., 0., 0., 0., 0., 0.,\n",
      "          0., 0., 0., 0., 0., 0., 0., 0., 0., 0., 0.],\n",
      "         [0., 0., 0., 0., 0., 0., 0., 0., 0., 0., 0., 0., 0., 0., 0., 0., 0.,\n",
      "          0., 0., 0., 0., 0., 0., 0., 0., 0., 0., 0.],\n",
      "         [0., 0., 0., 0., 0., 0., 0., 0., 0., 0., 0., 0., 0., 0., 0., 0., 0.,\n",
      "          0., 0., 0., 0., 0., 0., 0., 0., 0., 0., 0.],\n",
      "         [0., 0., 0., 0., 0., 0., 0., 0., 0., 0., 0., 0., 0., 0., 0., 0., 0.,\n",
      "          0., 0., 0., 0., 0., 0., 0., 0., 0., 0., 0.],\n",
      "         [0., 0., 0., 0., 0., 0., 0., 0., 0., 0., 0., 0., 0., 0., 0., 0., 0.,\n",
      "          0., 0., 0., 0., 0., 0., 0., 0., 0., 0., 0.],\n",
      "         [0., 1., 1., 1., 1., 1., 1., 1., 1., 1., 1., 1., 1., 1., 1., 1., 1.,\n",
      "          1., 1., 1., 1., 1., 1., 1., 1., 1., 1., 1.],\n",
      "         [0., 1., 1., 1., 1., 1., 1., 1., 1., 1., 1., 1., 1., 1., 1., 1., 1.,\n",
      "          1., 1., 1., 1., 1., 1., 1., 1., 1., 1., 1.],\n",
      "         [0., 0., 0., 0., 0., 0., 0., 0., 0., 0., 0., 0., 0., 0., 0., 0., 0.,\n",
      "          0., 0., 0., 0., 0., 0., 0., 0., 0., 0., 0.],\n",
      "         [0., 0., 0., 0., 0., 0., 0., 0., 0., 0., 0., 0., 0., 0., 0., 0., 0.,\n",
      "          0., 0., 0., 0., 0., 0., 0., 0., 0., 0., 0.],\n",
      "         [0., 0., 0., 0., 0., 0., 0., 0., 0., 0., 0., 0., 0., 0., 0., 0., 0.,\n",
      "          0., 0., 0., 0., 0., 0., 0., 0., 0., 0., 0.],\n",
      "         [0., 0., 0., 0., 0., 0., 0., 0., 0., 0., 0., 0., 0., 0., 0., 0., 0.,\n",
      "          0., 0., 0., 0., 0., 0., 0., 0., 0., 0., 0.],\n",
      "         [0., 0., 0., 0., 0., 0., 0., 0., 0., 0., 0., 0., 0., 0., 0., 0., 0.,\n",
      "          0., 0., 0., 0., 0., 0., 0., 0., 0., 0., 0.],\n",
      "         [0., 0., 0., 0., 0., 0., 0., 0., 0., 0., 0., 0., 0., 0., 0., 0., 0.,\n",
      "          0., 0., 0., 0., 0., 0., 0., 0., 0., 0., 0.],\n",
      "         [0., 0., 0., 0., 0., 0., 0., 0., 0., 0., 0., 0., 0., 0., 0., 0., 0.,\n",
      "          0., 0., 0., 0., 0., 0., 0., 0., 0., 0., 0.],\n",
      "         [0., 0., 0., 0., 0., 0., 0., 0., 0., 0., 0., 0., 0., 0., 0., 0., 0.,\n",
      "          0., 0., 0., 0., 0., 0., 0., 0., 0., 0., 0.],\n",
      "         [0., 0., 0., 0., 0., 0., 0., 0., 0., 0., 0., 0., 0., 0., 0., 0., 0.,\n",
      "          0., 0., 0., 0., 0., 0., 0., 0., 0., 0., 0.],\n",
      "         [0., 0., 0., 0., 0., 0., 0., 0., 0., 0., 0., 0., 0., 0., 0., 0., 0.,\n",
      "          0., 0., 0., 0., 0., 0., 0., 0., 0., 0., 0.],\n",
      "         [0., 0., 0., 0., 0., 0., 0., 0., 0., 0., 0., 0., 0., 0., 0., 0., 0.,\n",
      "          0., 0., 0., 0., 0., 0., 0., 0., 0., 0., 0.],\n",
      "         [0., 0., 0., 0., 0., 0., 0., 0., 0., 0., 0., 0., 0., 0., 0., 0., 0.,\n",
      "          0., 0., 0., 0., 0., 0., 0., 0., 0., 0., 0.],\n",
      "         [0., 0., 0., 0., 0., 0., 0., 0., 0., 0., 0., 0., 0., 0., 0., 0., 0.,\n",
      "          0., 0., 0., 0., 0., 0., 0., 0., 0., 0., 0.]]], dtype=torch.float64)\n"
     ]
    },
    {
     "data": {
      "text/plain": [
       "(array([730.,   0.,   0.,   0.,   0.,   0.,   0.,   0.,   0.,  54.]),\n",
       " array([0. , 0.1, 0.2, 0.3, 0.4, 0.5, 0.6, 0.7, 0.8, 0.9, 1. ]),\n",
       " <a list of 10 Patch objects>)"
      ]
     },
     "execution_count": 764,
     "metadata": {},
     "output_type": "execute_result"
    },
    {
     "data": {
      "image/png": "[encoded data removed]",
      "text/plain": [
       "<Figure size 432x288 with 1 Axes>"
      ]
     },
     "metadata": {
      "needs_background": "light"
     },
     "output_type": "display_data"
    }
   ],
   "source": [
    "images, labels = next(iter(trainloader_scan))\n",
    "print(images[0])\n",
    "plt.hist(images[0].numpy().squeeze().reshape(-1))"
   ]
  },
  {
   "cell_type": "code",
   "execution_count": null,
   "metadata": {},
   "outputs": [],
   "source": []
  },
  {
   "cell_type": "code",
   "execution_count": null,
   "metadata": {},
   "outputs": [],
   "source": []
  },
  {
   "cell_type": "code",
   "execution_count": null,
   "metadata": {},
   "outputs": [],
   "source": []
  },
  {
   "cell_type": "code",
   "execution_count": 658,
   "metadata": {},
   "outputs": [
    {
     "data": {
      "image/png": "[encoded data removed]",
      "text/plain": [
       "<Figure size 1440x1800 with 1 Axes>"
      ]
     },
     "metadata": {
      "needs_background": "light"
     },
     "output_type": "display_data"
    },
    {
     "name": "stdout",
     "output_type": "stream",
     "text": [
      "Accuracy on test batch: 0.00% \n",
      "Batch size: 1\n"
     ]
    },
    {
     "data": {
      "image/png": "[encoded data removed]",
      "text/plain": [
       "<Figure size 1440x1800 with 1 Axes>"
      ]
     },
     "metadata": {
      "needs_background": "light"
     },
     "output_type": "display_data"
    },
    {
     "name": "stdout",
     "output_type": "stream",
     "text": [
      "Accuracy on test batch: 0.00% \n",
      "Batch size: 1\n"
     ]
    },
    {
     "data": {
      "image/png": "[encoded data removed]",
      "text/plain": [
       "<Figure size 1440x1800 with 1 Axes>"
      ]
     },
     "metadata": {
      "needs_background": "light"
     },
     "output_type": "display_data"
    },
    {
     "name": "stdout",
     "output_type": "stream",
     "text": [
      "Accuracy on test batch: 0.00% \n",
      "Batch size: 1\n"
     ]
    },
    {
     "data": {
      "image/png": "[encoded data removed]",
      "text/plain": [
       "<Figure size 1440x1800 with 1 Axes>"
      ]
     },
     "metadata": {
      "needs_background": "light"
     },
     "output_type": "display_data"
    },
    {
     "name": "stdout",
     "output_type": "stream",
     "text": [
      "Accuracy on test batch: 0.00% \n",
      "Batch size: 1\n"
     ]
    },
    {
     "data": {
      "image/png": "[encoded data removed]",
      "text/plain": [
       "<Figure size 1440x1800 with 1 Axes>"
      ]
     },
     "metadata": {
      "needs_background": "light"
     },
     "output_type": "display_data"
    },
    {
     "name": "stdout",
     "output_type": "stream",
     "text": [
      "Accuracy on test batch: 0.00% \n",
      "Batch size: 1\n"
     ]
    },
    {
     "data": {
      "image/png": "[encoded data removed]",
      "text/plain": [
       "<Figure size 1440x1800 with 1 Axes>"
      ]
     },
     "metadata": {
      "needs_background": "light"
     },
     "output_type": "display_data"
    },
    {
     "name": "stdout",
     "output_type": "stream",
     "text": [
      "Accuracy on test batch: 0.00% \n",
      "Batch size: 1\n"
     ]
    },
    {
     "data": {
      "image/png": "[encoded data removed]",
      "text/plain": [
       "<Figure size 1440x1800 with 1 Axes>"
      ]
     },
     "metadata": {
      "needs_background": "light"
     },
     "output_type": "display_data"
    },
    {
     "name": "stdout",
     "output_type": "stream",
     "text": [
      "Accuracy on test batch: 0.00% \n",
      "Batch size: 1\n"
     ]
    },
    {
     "data": {
      "image/png": "[encoded data removed]",
      "text/plain": [
       "<Figure size 1440x1800 with 1 Axes>"
      ]
     },
     "metadata": {
      "needs_background": "light"
     },
     "output_type": "display_data"
    },
    {
     "name": "stdout",
     "output_type": "stream",
     "text": [
      "Accuracy on test batch: 0.00% \n",
      "Batch size: 1\n"
     ]
    },
    {
     "data": {
      "image/png": "[encoded data removed]",
      "text/plain": [
       "<Figure size 1440x1800 with 1 Axes>"
      ]
     },
     "metadata": {
      "needs_background": "light"
     },
     "output_type": "display_data"
    },
    {
     "name": "stdout",
     "output_type": "stream",
     "text": [
      "Accuracy on test batch: 0.00% \n",
      "Batch size: 1\n"
     ]
    },
    {
     "data": {
      "image/png": "[encoded data removed]",
      "text/plain": [
       "<Figure size 1440x1800 with 1 Axes>"
      ]
     },
     "metadata": {
      "needs_background": "light"
     },
     "output_type": "display_data"
    },
    {
     "name": "stdout",
     "output_type": "stream",
     "text": [
      "Accuracy on test batch: 0.00% \n",
      "Batch size: 1\n"
     ]
    }
   ],
   "source": [
    "dataiter = iter(trainloader_scan)\n",
    "    for i in range(batches):\n",
    "        images, labels = dataiter.next()\n",
    "\n",
    "        batch_size = len(images)\n",
    "\n",
    "\n",
    "        fig = plt.figure(figsize=(20,25))\n",
    "        fig.suptitle('Images of one batch with color-coded predictions', fontsize=16)\n",
    "\n",
    "        #compute subplot dimensions\n",
    "        n_columns = 7\n",
    "\n",
    "        if batch_size % n_columns:\n",
    "            n_rows = batch_size // n_columns + 1 \n",
    "        else:\n",
    "            n_rows = batch_size // n_columns\n",
    "\n",
    "        predictions = []\n",
    "        for n, image in enumerate(images):\n",
    "            prediction = predict(image, model)\n",
    "            predictions.append(np.argmax(prediction))\n",
    "            plt.subplot(n_rows, n_columns, n+1)\n",
    "            plt.imshow(image.numpy().squeeze())\n",
    "            color = 'g' if np.argmax(prediction) == labels[n] else 'r'\n",
    "            if mappings:\n",
    "                plt.title(mappings[np.argmax(prediction)], color=color)\n",
    "            plt.axis('off')\n",
    "\n",
    "\n",
    "        accuracy = (np.sum(predictions == labels.numpy())) / batch_size\n",
    "\n",
    "        plt.show()\n",
    "        print(f\"Accuracy on test batch: {accuracy * 100:.2f}% \")\n",
    "        print(f\"Batch size: {batch_size}\")\n",
    "    \n",
    "check_predictions(testloader_kaggle, class_mappings_reverse)"
   ]
  },
  {
   "cell_type": "code",
   "execution_count": null,
   "metadata": {},
   "outputs": [],
   "source": []
  },
  {
   "cell_type": "markdown",
   "metadata": {},
   "source": [
    "## Save model"
   ]
  },
  {
   "cell_type": "code",
   "execution_count": 537,
   "metadata": {},
   "outputs": [
    {
     "name": "stdout",
     "output_type": "stream",
     "text": [
      "Model's state_dict:\n",
      "fc1.weight \t torch.Size([140, 784])\n",
      "fc1.bias \t torch.Size([140])\n",
      "fc2.weight \t torch.Size([100, 140])\n",
      "fc2.bias \t torch.Size([100])\n",
      "fc3.weight \t torch.Size([37, 100])\n",
      "fc3.bias \t torch.Size([37])\n",
      "Optimizer's state_dict:\n",
      "state \t {2459574080208: {'step': 3940, 'exp_avg': tensor([[-1.8286e-06,  3.5675e-07, -1.2875e-05,  ..., -1.2314e-05,\n",
      "         -1.9585e-07, -6.1704e-08],\n",
      "        [ 6.8833e-07,  6.0952e-06, -8.1043e-06,  ...,  3.2272e-06,\n",
      "         -1.1321e-06,  1.1644e-06],\n",
      "        [ 9.8417e-07, -4.2115e-06,  1.5515e-05,  ...,  9.9135e-07,\n",
      "          2.4502e-08,  1.4088e-06],\n",
      "        ...,\n",
      "        [-1.1937e-06, -3.6615e-06,  2.1852e-05,  ..., -1.8702e-06,\n",
      "          6.3209e-07,  3.5262e-09],\n",
      "        [ 8.7228e-06,  1.0472e-05,  1.0005e-05,  ...,  1.9981e-05,\n",
      "         -4.2521e-07, -3.7145e-07],\n",
      "        [-1.1289e-05, -1.8458e-05, -1.9247e-05,  ...,  3.6154e-06,\n",
      "          1.8993e-06, -2.0763e-07]], device='cuda:0'), 'exp_avg_sq': tensor([[2.6525e-08, 3.4505e-08, 9.4850e-08,  ..., 4.0888e-08, 1.7205e-08,\n",
      "         1.3927e-08],\n",
      "        [5.9568e-08, 3.7618e-08, 7.7163e-08,  ..., 8.4087e-08, 6.0863e-08,\n",
      "         1.5916e-08],\n",
      "        [1.2534e-08, 1.7097e-08, 1.0252e-07,  ..., 2.4800e-08, 1.0896e-08,\n",
      "         6.5541e-09],\n",
      "        ...,\n",
      "        [5.1659e-08, 1.1276e-07, 2.8897e-07,  ..., 9.5710e-08, 8.0006e-08,\n",
      "         2.9374e-08],\n",
      "        [8.4765e-08, 9.6814e-08, 1.4076e-07,  ..., 9.4903e-08, 5.2476e-08,\n",
      "         3.0671e-08],\n",
      "        [7.3388e-08, 3.0928e-07, 3.6191e-07,  ..., 1.1835e-07, 5.9950e-08,\n",
      "         2.7576e-08]], device='cuda:0')}, 2459574080136: {'step': 3940, 'exp_avg': tensor([-9.3767e-04, -1.2248e-04,  5.9268e-04,  5.3713e-04,  1.0914e-03,\n",
      "         6.1885e-04, -1.6655e-03, -1.0798e-03,  1.7831e-04, -4.5777e-04,\n",
      "        -1.0466e-03,  1.0853e-03, -1.6590e-03,  4.1239e-04,  9.8480e-04,\n",
      "        -1.3568e-03,  3.1873e-04, -2.2681e-04,  1.4612e-04,  5.8516e-04,\n",
      "         2.0441e-06, -3.1504e-05, -5.7640e-04,  1.0656e-03,  3.8727e-04,\n",
      "         1.0057e-03,  1.4602e-03,  2.4951e-04,  7.6150e-04,  2.3371e-04,\n",
      "         1.8690e-04, -6.6355e-04, -1.3362e-03,  1.5749e-03, -7.6653e-04,\n",
      "         3.8473e-04,  1.1564e-03,  8.1006e-04,  1.1578e-03,  1.0209e-03,\n",
      "        -4.2824e-04, -9.4881e-04,  9.6346e-04,  1.0370e-03,  1.6375e-03,\n",
      "         5.7788e-04, -7.9694e-04,  5.4714e-04,  9.9080e-04,  2.6215e-04,\n",
      "        -4.3926e-04, -1.2688e-03,  9.7510e-05, -7.7830e-04, -8.3635e-04,\n",
      "         1.6042e-03, -2.9742e-03, -3.7311e-03,  7.3645e-04,  1.1160e-03,\n",
      "         5.1203e-04, -2.7971e-03,  1.3183e-03,  1.0553e-03,  1.2071e-03,\n",
      "         2.2611e-04,  1.3167e-03,  5.4035e-04,  3.5326e-04,  8.3018e-04,\n",
      "        -1.3588e-03, -3.3243e-03, -1.2224e-03,  2.7717e-04,  4.4136e-04,\n",
      "        -1.8991e-03,  8.6122e-04,  2.6546e-03,  1.3504e-03, -1.3071e-03,\n",
      "        -3.4552e-03, -7.9254e-04, -1.2157e-03, -2.5036e-03,  2.3808e-04,\n",
      "        -6.7468e-05, -2.2131e-04, -6.4042e-04,  2.3938e-03, -6.3403e-04,\n",
      "        -1.0157e-03,  1.3700e-03,  3.0368e-04,  1.2935e-03, -4.5260e-04,\n",
      "         6.8184e-04,  3.5116e-04,  5.2792e-04, -1.3734e-03,  3.0144e-03,\n",
      "         2.4302e-04, -5.5041e-04,  1.7293e-04,  2.3146e-03,  1.3786e-04,\n",
      "        -2.0226e-04, -1.0509e-03, -9.1587e-05,  8.4366e-04, -3.7512e-04,\n",
      "        -5.8785e-03, -6.7382e-04,  1.8002e-03, -6.0218e-04,  7.8867e-05,\n",
      "        -4.2158e-04,  1.5743e-03,  1.8686e-04, -2.4840e-03,  1.4964e-03,\n",
      "         1.5239e-03,  2.8709e-03, -4.6452e-04, -1.5455e-04, -2.5554e-04,\n",
      "         3.4867e-03, -4.7714e-04,  2.5015e-03,  2.7584e-04,  1.8360e-03,\n",
      "         5.6450e-04, -9.6440e-05,  1.2233e-03,  1.8831e-03,  4.8614e-04,\n",
      "         3.3176e-03, -1.1316e-03,  5.9493e-04, -1.9386e-03, -1.1257e-03],\n",
      "       device='cuda:0'), 'exp_avg_sq': tensor([2.7402e-05, 2.4626e-05, 2.4237e-05, 2.9454e-05, 1.3194e-05, 3.2256e-05,\n",
      "        3.1944e-05, 2.8237e-05, 7.0553e-05, 3.8374e-05, 1.6758e-05, 3.3060e-05,\n",
      "        4.2735e-05, 3.7924e-05, 2.4500e-05, 9.0406e-05, 1.8187e-05, 2.1364e-05,\n",
      "        2.1361e-05, 1.2300e-05, 1.7456e-05, 2.3242e-05, 2.1293e-05, 2.0494e-05,\n",
      "        3.2087e-05, 2.0417e-05, 2.3691e-05, 4.0788e-05, 2.3313e-05, 1.9587e-05,\n",
      "        2.7383e-05, 2.9114e-05, 3.7052e-05, 3.0507e-05, 3.4279e-05, 2.2977e-05,\n",
      "        2.5109e-05, 6.8543e-05, 3.8004e-05, 3.1348e-05, 2.2852e-05, 3.2525e-05,\n",
      "        3.1535e-05, 5.5660e-05, 5.7298e-05, 2.9889e-05, 2.4497e-05, 1.7946e-05,\n",
      "        9.2925e-05, 3.2403e-05, 2.7761e-05, 1.5658e-04, 1.4803e-05, 3.4231e-05,\n",
      "        1.9933e-05, 2.6338e-05, 4.0380e-05, 7.4219e-05, 2.1538e-05, 2.5579e-05,\n",
      "        3.4290e-05, 7.7438e-05, 4.7545e-05, 2.4641e-05, 2.9151e-05, 3.9569e-05,\n",
      "        4.1536e-05, 5.4099e-05, 9.2644e-05, 3.1013e-05, 5.4552e-05, 4.5085e-05,\n",
      "        3.5520e-05, 5.5556e-05, 3.1646e-05, 3.3901e-05, 2.8313e-05, 3.5245e-05,\n",
      "        4.9932e-05, 4.1166e-05, 6.4111e-05, 3.1897e-05, 2.8929e-05, 5.3874e-05,\n",
      "        1.9459e-05, 2.7306e-05, 3.6543e-05, 2.1032e-05, 2.6740e-05, 3.0333e-05,\n",
      "        5.5893e-05, 4.1879e-05, 2.7095e-05, 3.8975e-05, 3.5759e-05, 2.8150e-05,\n",
      "        1.8424e-05, 5.3028e-05, 6.4748e-05, 5.9579e-05, 1.9746e-05, 2.6924e-05,\n",
      "        3.3689e-05, 3.5002e-05, 1.8940e-05, 2.2276e-05, 5.4130e-05, 3.7119e-05,\n",
      "        3.2093e-05, 2.9621e-05, 9.7229e-05, 2.9039e-05, 2.2080e-05, 3.2686e-05,\n",
      "        4.3237e-05, 4.1747e-05, 2.2889e-05, 4.1620e-05, 4.9565e-05, 2.4096e-05,\n",
      "        9.2257e-05, 5.4198e-05, 2.9483e-05, 2.2481e-05, 1.6265e-05, 4.7453e-05,\n",
      "        2.7056e-05, 4.5505e-05, 2.8516e-05, 3.3324e-05, 1.1856e-05, 2.8583e-05,\n",
      "        2.2576e-05, 3.9144e-05, 1.5444e-05, 4.5631e-05, 3.6564e-05, 4.0427e-05,\n",
      "        4.0203e-05, 7.7200e-05], device='cuda:0')}, 2459574079704: {'step': 3940, 'exp_avg': tensor([[ 1.8314e-04, -9.8480e-05,  8.0809e-05,  ...,  1.6919e-04,\n",
      "          3.6108e-05, -3.8539e-05],\n",
      "        [ 1.3351e-03,  5.2230e-04,  1.9263e-04,  ...,  3.8924e-04,\n",
      "          4.9142e-04,  2.1324e-04],\n",
      "        [ 1.5517e-03, -3.2140e-05, -2.6421e-05,  ...,  5.0379e-04,\n",
      "         -1.6217e-04,  3.0124e-04],\n",
      "        ...,\n",
      "        [ 1.9787e-04, -2.5318e-04, -2.0121e-04,  ..., -1.9729e-04,\n",
      "         -3.1205e-04, -2.3811e-04],\n",
      "        [ 3.5032e-06,  9.0599e-04, -6.1281e-05,  ..., -2.8463e-04,\n",
      "          2.5261e-04,  3.7451e-04],\n",
      "        [-5.4114e-04, -1.0519e-04,  2.8485e-04,  ...,  3.9771e-04,\n",
      "         -8.0630e-05, -1.6740e-04]], device='cuda:0'), 'exp_avg_sq': tensor([[8.3296e-06, 1.0571e-05, 7.3940e-06,  ..., 8.4068e-06, 8.3986e-06,\n",
      "         3.7906e-06],\n",
      "        [5.2051e-06, 7.9482e-06, 4.7330e-06,  ..., 4.5415e-06, 5.9762e-06,\n",
      "         3.8161e-06],\n",
      "        [1.2628e-05, 8.0190e-06, 6.7442e-06,  ..., 9.9513e-06, 3.2279e-06,\n",
      "         7.1364e-06],\n",
      "        ...,\n",
      "        [7.2020e-06, 9.9181e-06, 7.5941e-06,  ..., 8.0498e-06, 7.2176e-06,\n",
      "         5.4320e-06],\n",
      "        [1.1808e-05, 1.3412e-05, 8.1261e-06,  ..., 9.6913e-06, 6.7129e-06,\n",
      "         1.0348e-05],\n",
      "        [7.6940e-06, 9.1917e-06, 4.6762e-06,  ..., 6.5724e-06, 4.6585e-06,\n",
      "         4.2917e-06]], device='cuda:0')}, 2459595190416: {'step': 3940, 'exp_avg': tensor([ 4.7295e-04,  7.4898e-04,  6.3600e-04,  8.9889e-04,  3.6046e-05,\n",
      "         0.0000e+00, -2.0911e-04,  3.0422e-04,  3.8288e-04,  3.9120e-04,\n",
      "         6.4415e-04, -2.0222e-05, -6.0111e-04,  7.9986e-05, -1.6147e-04,\n",
      "         7.9970e-05,  6.9725e-04,  3.2200e-04,  0.0000e+00,  2.7817e-05,\n",
      "         6.0884e-04, -6.4405e-04,  4.7403e-04,  1.1618e-03, -6.1983e-06,\n",
      "        -3.9907e-04, -5.2636e-04,  4.2016e-04,  3.2899e-04,  8.1306e-04,\n",
      "        -1.3115e-04,  1.4642e-04,  6.2891e-04,  5.1569e-04,  1.9373e-04,\n",
      "        -6.3685e-04, -2.4135e-04, -2.8061e-04, -4.2487e-05,  5.6052e-45,\n",
      "        -6.4527e-04,  6.4564e-04, -1.2156e-03,  7.9340e-04, -2.9573e-04,\n",
      "        -3.4526e-04,  2.3504e-04, -6.8175e-04,  8.7599e-04, -5.0107e-04,\n",
      "        -9.5406e-04,  3.0478e-04,  0.0000e+00,  1.2517e-03, -1.6133e-04,\n",
      "         5.6052e-45,  3.5727e-04, -7.3054e-04,  2.3279e-05,  7.5074e-04,\n",
      "        -6.1420e-04, -2.0307e-04, -3.6582e-05,  5.0782e-04, -9.7682e-05,\n",
      "         1.8793e-05,  3.4046e-04,  6.2337e-04, -1.0203e-05,  8.4130e-05,\n",
      "         3.7184e-04,  5.8552e-04, -6.7785e-04, -3.0526e-04,  6.7281e-04,\n",
      "        -3.5417e-05, -6.5503e-04,  1.9727e-04, -3.2898e-04, -5.3915e-04,\n",
      "         2.0884e-04,  5.6052e-45,  1.6279e-03, -6.0169e-05,  5.6052e-45,\n",
      "         3.4679e-04,  4.6341e-04, -1.6098e-04,  2.9758e-04, -8.1234e-04,\n",
      "        -1.0971e-03,  4.5207e-04, -3.3213e-05,  1.1112e-03,  3.9358e-04,\n",
      "         4.4329e-04,  2.6648e-04, -7.7508e-05,  4.8424e-04, -4.1635e-05],\n",
      "       device='cuda:0'), 'exp_avg_sq': tensor([1.1229e-05, 7.7199e-06, 8.4711e-06, 1.0216e-05, 1.0795e-05, 0.0000e+00,\n",
      "        4.5874e-06, 6.4804e-06, 4.4381e-06, 1.4997e-05, 4.0469e-06, 8.7697e-06,\n",
      "        8.8405e-06, 5.0234e-06, 8.0206e-06, 8.5013e-06, 1.1405e-05, 5.6926e-06,\n",
      "        0.0000e+00, 6.8973e-06, 9.6608e-06, 8.7185e-06, 6.6719e-06, 1.1082e-05,\n",
      "        5.7030e-06, 1.6221e-05, 8.0460e-06, 5.8245e-06, 9.7618e-06, 4.5713e-06,\n",
      "        6.2692e-06, 6.3727e-06, 8.0479e-06, 9.1701e-06, 7.9438e-06, 1.0163e-05,\n",
      "        9.1769e-06, 7.0612e-06, 5.1920e-06, 2.0315e-15, 1.3231e-05, 5.7963e-06,\n",
      "        1.0315e-05, 7.5685e-06, 7.0591e-06, 1.1456e-05, 7.5579e-06, 1.1525e-05,\n",
      "        1.1469e-05, 7.8885e-06, 9.1287e-06, 7.2819e-06, 0.0000e+00, 8.1921e-06,\n",
      "        8.2834e-06, 6.0070e-11, 6.0021e-06, 1.4808e-05, 7.8574e-06, 6.0083e-06,\n",
      "        1.8208e-05, 7.4100e-06, 7.6387e-06, 6.6403e-06, 5.8186e-06, 1.4262e-05,\n",
      "        4.8379e-06, 7.4438e-06, 6.1927e-06, 9.8996e-06, 6.6659e-06, 8.7844e-06,\n",
      "        6.2476e-06, 6.6827e-06, 6.3481e-06, 2.2623e-05, 7.1902e-06, 7.4200e-06,\n",
      "        1.4112e-05, 7.3393e-06, 5.0999e-06, 5.0009e-11, 1.0697e-05, 6.8351e-06,\n",
      "        1.2271e-09, 8.8791e-06, 8.3005e-06, 1.0766e-05, 8.1603e-06, 8.6380e-06,\n",
      "        7.6033e-06, 1.2524e-05, 8.5916e-06, 7.8542e-06, 1.2042e-05, 6.5535e-06,\n",
      "        4.7565e-06, 8.6799e-06, 9.6119e-06, 7.9018e-06], device='cuda:0')}, 2459595190488: {'step': 3940, 'exp_avg': tensor([[-3.6330e-04, -1.4242e-03, -1.2248e-03,  ..., -4.0755e-03,\n",
      "         -2.4214e-04, -6.4539e-05],\n",
      "        [ 1.2328e-03, -1.9997e-03, -8.4457e-05,  ...,  1.2854e-04,\n",
      "          3.2580e-04,  3.6298e-04],\n",
      "        [-1.9935e-03, -3.5225e-03, -1.2845e-03,  ..., -4.0869e-03,\n",
      "         -2.6547e-03, -9.7159e-04],\n",
      "        ...,\n",
      "        [ 4.2384e-12,  5.2420e-12,  7.2220e-12,  ...,  5.6621e-12,\n",
      "          1.7281e-13,  7.8187e-14],\n",
      "        [ 2.5974e-12,  3.0496e-12,  4.2405e-12,  ...,  3.2914e-12,\n",
      "          9.3448e-14,  3.7094e-14],\n",
      "        [ 3.9552e-12,  4.0626e-12,  6.5189e-12,  ...,  4.9823e-12,\n",
      "          7.6883e-14,  1.5520e-14]], device='cuda:0'), 'exp_avg_sq': tensor([[4.0729e-04, 3.4121e-04, 4.1459e-04,  ..., 2.5131e-04, 3.3655e-05,\n",
      "         1.3304e-05],\n",
      "        [5.1355e-05, 9.8481e-05, 5.4344e-04,  ..., 2.0235e-04, 5.5110e-05,\n",
      "         6.6911e-05],\n",
      "        [1.8698e-04, 3.6568e-04, 2.7761e-04,  ..., 4.6769e-04, 2.4103e-04,\n",
      "         1.2331e-04],\n",
      "        ...,\n",
      "        [6.0051e-18, 2.3418e-17, 1.7115e-17,  ..., 1.7984e-17, 9.0976e-18,\n",
      "         6.7182e-18],\n",
      "        [4.4133e-18, 3.5225e-17, 1.2915e-17,  ..., 2.1362e-17, 1.1358e-17,\n",
      "         8.2513e-18],\n",
      "        [4.3540e-18, 4.1825e-18, 5.7191e-18,  ..., 4.8508e-18, 1.4477e-18,\n",
      "         9.4675e-19]], device='cuda:0')}, 2459595193296: {'step': 3940, 'exp_avg': tensor([-5.6492e-04,  1.5261e-04, -8.0517e-04, -4.8611e-04, -4.8563e-04,\n",
      "         1.4971e-04,  2.7212e-03, -1.3309e-03,  6.6636e-04,  8.3502e-04,\n",
      "         3.6487e-05, -3.6602e-04,  9.3666e-05,  5.1586e-04, -1.6509e-03,\n",
      "         1.5836e-04,  3.9579e-05, -2.4390e-04,  8.9886e-04, -1.6959e-03,\n",
      "        -7.5699e-05,  2.4649e-04, -4.1301e-04,  5.0637e-05, -2.5334e-04,\n",
      "         7.5856e-04, -4.2400e-06, -8.8614e-06,  2.1999e-04, -4.0239e-05,\n",
      "        -8.9089e-05, -5.6422e-05,  3.0415e-04,  7.2270e-04,  2.3116e-12,\n",
      "         1.3612e-12,  2.0482e-12], device='cuda:0'), 'exp_avg_sq': tensor([3.2100e-05, 3.4708e-05, 2.3899e-05, 9.3082e-05, 8.0347e-06, 6.8841e-06,\n",
      "        1.2935e-04, 5.2131e-05, 1.8537e-05, 2.0496e-05, 4.3780e-06, 1.0518e-05,\n",
      "        5.2832e-06, 9.6290e-06, 1.3124e-05, 1.1580e-05, 1.4010e-06, 2.7523e-06,\n",
      "        2.4976e-05, 1.0447e-05, 4.8981e-06, 1.9963e-05, 1.1966e-05, 3.7234e-06,\n",
      "        7.4024e-06, 2.1041e-05, 1.2187e-06, 5.7935e-06, 8.4480e-06, 1.5790e-06,\n",
      "        1.8184e-06, 5.8958e-07, 2.1714e-05, 3.7910e-05, 1.1029e-17, 1.5221e-17,\n",
      "        2.7316e-18], device='cuda:0')}}\n",
      "param_groups \t [{'lr': 0.001, 'betas': (0.9, 0.999), 'eps': 1e-08, 'weight_decay': 0, 'amsgrad': False, 'params': [2459574080208, 2459574080136, 2459574079704, 2459595190416, 2459595190488, 2459595193296]}]\n"
     ]
    }
   ],
   "source": [
    "# Print model's state_dict\n",
    "print(\"Model's state_dict:\")\n",
    "for param_tensor in model.state_dict():\n",
    "    print(param_tensor, \"\\t\", model.state_dict()[param_tensor].size())\n",
    "\n",
    "# Print optimizer's state_dict\n",
    "print(\"Optimizer's state_dict:\")\n",
    "for var_name in optimizer.state_dict():\n",
    "    print(var_name, \"\\t\", optimizer.state_dict()[var_name])"
   ]
  },
  {
   "cell_type": "code",
   "execution_count": 552,
   "metadata": {},
   "outputs": [],
   "source": [
    "model_dir = 'model'\n",
    "\n",
    "os.makedirs(model_dir, exist_ok=True)\n",
    "torch.save(model.state_dict(), os.path.join(model_dir, 'model.pth' ))"
   ]
  },
  {
   "cell_type": "code",
   "execution_count": 553,
   "metadata": {},
   "outputs": [
    {
     "ename": "NameError",
     "evalue": "name 'args' is not defined",
     "output_type": "error",
     "traceback": [
      "\u001b[1;31m---------------------------------------------------------------------------\u001b[0m",
      "\u001b[1;31mNameError\u001b[0m                                 Traceback (most recent call last)",
      "\u001b[1;32m<ipython-input-553-c0212fedf024>\u001b[0m in \u001b[0;36m<module>\u001b[1;34m\u001b[0m\n\u001b[0;32m      1\u001b[0m model_info = {\n\u001b[1;32m----> 2\u001b[1;33m     \u001b[1;34m'input_dim'\u001b[0m\u001b[1;33m:\u001b[0m \u001b[0margs\u001b[0m\u001b[1;33m.\u001b[0m\u001b[0minput_dim\u001b[0m\u001b[1;33m,\u001b[0m\u001b[1;33m\u001b[0m\u001b[1;33m\u001b[0m\u001b[0m\n\u001b[0m\u001b[0;32m      3\u001b[0m     \u001b[1;34m'hidden_dim'\u001b[0m\u001b[1;33m:\u001b[0m \u001b[0margs\u001b[0m\u001b[1;33m.\u001b[0m\u001b[0mhidden_dim\u001b[0m\u001b[1;33m,\u001b[0m\u001b[1;33m\u001b[0m\u001b[1;33m\u001b[0m\u001b[0m\n\u001b[0;32m      4\u001b[0m     \u001b[1;34m'output_dim'\u001b[0m\u001b[1;33m:\u001b[0m \u001b[0margs\u001b[0m\u001b[1;33m.\u001b[0m\u001b[0moutput_dim\u001b[0m\u001b[1;33m\u001b[0m\u001b[1;33m\u001b[0m\u001b[0m\n\u001b[0;32m      5\u001b[0m         }\n",
      "\u001b[1;31mNameError\u001b[0m: name 'args' is not defined"
     ]
    }
   ],
   "source": [
    "model_info = {\n",
    "    'input_dim': input_dim,\n",
    "    'hidden_dim': hidden_dim,\n",
    "    'output_dim': output_dim\n",
    "        }\n",
    "torch.save(model_info, os.path.join(model_dir, 'model_info.pth' ))"
   ]
  },
  {
   "cell_type": "code",
   "execution_count": null,
   "metadata": {},
   "outputs": [],
   "source": []
  }
 ],
 "metadata": {
  "kernelspec": {
   "display_name": "Python 3",
   "language": "python",
   "name": "python3"
  },
  "language_info": {
   "codemirror_mode": {
    "name": "ipython",
    "version": 3
   },
   "file_extension": ".py",
   "mimetype": "text/x-python",
   "name": "python",
   "nbconvert_exporter": "python",
   "pygments_lexer": "ipython3",
   "version": "3.7.3"
  }
 },
 "nbformat": 4,
 "nbformat_minor": 4
}
